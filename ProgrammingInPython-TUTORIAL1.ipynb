{
 "cells": [
  {
   "cell_type": "markdown",
   "metadata": {},
   "source": [
    "# Basic and Intermediate Python\n",
    "\n",
    "Below is an outline of the topics discuss here:\n",
    "\n",
    "**0.** Jupyter Notebooks <br>\n",
    "**1.** Objects and Methods <br>\n",
    "**2.** Packages <br>\n",
    "**3.** Lists and NumPy <br>\n",
    "**4.** Matplotlib <br>\n",
    "**5.** Dictionaries <br>\n",
    "**6.** Pandas <br>\n",
    "**7.** Comparison Operators <br>\n",
    "**8.** Conditional Statements:  `if`, `elif`, and `else` <br>\n",
    "**9.** Filtering DataFrames <br>\n",
    "**10.** The `while` loop <br>\n",
    "**11.** The `for` loop <br>\n",
    "**12.** Importing, Exporting, and Plotting with pandas and DataFrames <br>\n",
    "**13.** Simulating a Random Walk <br>\n",
    "**14.** Debugging <br>\n"
   ]
  },
  {
   "cell_type": "markdown",
   "metadata": {},
   "source": [
    "# 0. Jupyter Notebooks\n",
    "\n",
    "If you are using Jupyter notebooks and \"markdown\" to write notes outside of Python code (as I will below), definitely install a [popular bundle](https://github.com/ipython-contrib/jupyter_contrib_nbextensions) that contains a spell checker for Jupyter notebooks:\n",
    "\n",
    "`!pip install jupyter_contrib_nbextensions` <br>\n",
    "`!jupyter contrib nbextension install --user` <br>\n",
    "`!jupyter nbextension enable spellchecker/main` <br>\n",
    "\n",
    "To enable this extension on all notebooks, simply execute the code\n",
    "\n",
    "`!jupyter nbextension enable --py githubcommit` <br>\n",
    "\n",
    "This bundle provides one of the most popular spell checkers for Jupyter Notebooks. However, it simply highlights words not in its dictionary, and does not offer corrections."
   ]
  },
  {
   "cell_type": "markdown",
   "metadata": {},
   "source": [
    "# 1. Objects and Methods"
   ]
  },
  {
   "cell_type": "markdown",
   "metadata": {},
   "source": [
    "**FACT 1:** In Python, everything is a type of **object** and each object has \"methods\" associated with it. \n",
    "The methods depend on the object type. \n",
    "\n",
    "Methods: call functions *on* objects.\n",
    "\n",
    "**FACT 2:** Some object types may have the same \"method\". For example:"
   ]
  },
  {
   "cell_type": "code",
   "execution_count": 1,
   "metadata": {},
   "outputs": [],
   "source": [
    "list1 = ['a', 'b', 'c', 'd']\n",
    "string1 = \"hello\""
   ]
  },
  {
   "cell_type": "code",
   "execution_count": 2,
   "metadata": {},
   "outputs": [
    {
     "data": {
      "text/plain": [
       "1"
      ]
     },
     "execution_count": 2,
     "metadata": {},
     "output_type": "execute_result"
    }
   ],
   "source": [
    "list1.index('b')"
   ]
  },
  {
   "cell_type": "code",
   "execution_count": 3,
   "metadata": {},
   "outputs": [
    {
     "data": {
      "text/plain": [
       "4"
      ]
     },
     "execution_count": 3,
     "metadata": {},
     "output_type": "execute_result"
    }
   ],
   "source": [
    "string1.index('o')"
   ]
  },
  {
   "cell_type": "markdown",
   "metadata": {},
   "source": [
    "In the code above, `list1` and `string1` both have the `index` method. However, this method does different things.  \n",
    "\n",
    "The way we call methods depend on how they are constructed. For example, for strings like `string1` the `len` method is defined as\n",
    "* `__len__(self, /)` \n",
    "which means you call it as:"
   ]
  },
  {
   "cell_type": "code",
   "execution_count": 4,
   "metadata": {},
   "outputs": [
    {
     "data": {
      "text/plain": [
       "5"
      ]
     },
     "execution_count": 4,
     "metadata": {},
     "output_type": "execute_result"
    }
   ],
   "source": [
    "len(string1)"
   ]
  },
  {
   "cell_type": "markdown",
   "metadata": {},
   "source": [
    "while the method `capitalize(...)` is called as:"
   ]
  },
  {
   "cell_type": "code",
   "execution_count": 5,
   "metadata": {},
   "outputs": [
    {
     "data": {
      "text/plain": [
       "'Hello'"
      ]
     },
     "execution_count": 5,
     "metadata": {},
     "output_type": "execute_result"
    }
   ],
   "source": [
    "string1.capitalize()"
   ]
  },
  {
   "cell_type": "markdown",
   "metadata": {},
   "source": [
    "# 2. Packages"
   ]
  },
  {
   "cell_type": "markdown",
   "metadata": {},
   "source": [
    "When importing a package, you can rename it with shorter names. For example, when importing `numpy`, you can do this:\n",
    "* <code><strong>import</strong> numpy</code>\n",
    "or \n",
    "* <code><strong>import</strong> numpy <strong>as</strong> np</code>"
   ]
  },
  {
   "cell_type": "markdown",
   "metadata": {},
   "source": [
    "If you want to import a subpackage of a package, like the `linalg` subpackage of the `scipy` package, you use the notation `scipy.linalg`. If you want to import the function `inv()` as `my_inv` then you type the following:\n",
    "* <code><strong>from</strong> scipy.linalg <strong>import</strong> inv <strong>as</strong> my_inv<code> "
   ]
  },
  {
   "cell_type": "markdown",
   "metadata": {},
   "source": [
    "# 3. Lists and NumPy"
   ]
  },
  {
   "cell_type": "markdown",
   "metadata": {},
   "source": [
    "The `list` object is very powerful. It can hold different object types. You can change, add, and remove elements from a list. \n",
    "\n",
    "However, to perform mathematical operations on elements of a list, it is not possible to do this efficiently. This is where the `NumPy` array object comes in handy! The `NumPy` array is an alternative to Python lists and allows for calculations over entire arrays. It is easy and fast. \n",
    "\n",
    "### 3.1 2D NumPy Arrays\n",
    "\n",
    "If we have a list of 2 lists, we can convert this to a 2D `numpy` array. In general, a list of $n$ lists can be converted to an $n$-d `numpy` array. \n",
    "\n",
    "Subsetting in a 2D `numpy` array is easy. See the following:"
   ]
  },
  {
   "cell_type": "code",
   "execution_count": 6,
   "metadata": {},
   "outputs": [
    {
     "data": {
      "text/plain": [
       "array([1.73, 1.68, 1.71, 1.89, 1.79])"
      ]
     },
     "execution_count": 6,
     "metadata": {},
     "output_type": "execute_result"
    }
   ],
   "source": [
    "import numpy as np\n",
    "list1 = [[1.73, 1.68, 1.71, 1.89, 1.79], [65.4, 59.2, 63.6, 88.4, 68.7]]\n",
    "\n",
    "np_2d = np.array(list1)\n",
    "np_2d[0]"
   ]
  },
  {
   "cell_type": "code",
   "execution_count": 7,
   "metadata": {},
   "outputs": [
    {
     "data": {
      "text/plain": [
       "1.71"
      ]
     },
     "execution_count": 7,
     "metadata": {},
     "output_type": "execute_result"
    }
   ],
   "source": [
    "# To get the element in 1st row, 2nd column. \n",
    "# Method 1:\n",
    "np_2d[0][2]"
   ]
  },
  {
   "cell_type": "code",
   "execution_count": 8,
   "metadata": {},
   "outputs": [
    {
     "data": {
      "text/plain": [
       "1.71"
      ]
     },
     "execution_count": 8,
     "metadata": {},
     "output_type": "execute_result"
    }
   ],
   "source": [
    "# Method 2:\n",
    "np_2d[0,2]"
   ]
  },
  {
   "cell_type": "markdown",
   "metadata": {},
   "source": [
    "### 3.2 NumPy Arrays: Basic Statistics"
   ]
  },
  {
   "cell_type": "code",
   "execution_count": 9,
   "metadata": {},
   "outputs": [],
   "source": [
    "# Generate some data\n",
    "height = np.round(np.random.normal(1.75, 0.20, 5000), 2)\n",
    "weight = np.round(np.random.normal(60.32, 15, 5000), 2)\n",
    "np_city = np.column_stack((height, weight))"
   ]
  },
  {
   "cell_type": "code",
   "execution_count": 10,
   "metadata": {},
   "outputs": [
    {
     "name": "stdout",
     "output_type": "stream",
     "text": [
      "Mean(height) =  1.750272\n",
      "Median(height) =  1.75\n",
      "\n",
      "Mean(weight) =  60.264230000000005\n",
      "Median(weight) =  60.135000000000005\n"
     ]
    }
   ],
   "source": [
    "# Get mean and median\n",
    "print(\"Mean(height) = \", np.mean(np_city[:,0]))\n",
    "print(\"Median(height) = \", np.median(np_city[:,0]))\n",
    "print()\n",
    "print(\"Mean(weight) = \", np.mean(np_city[:,1]))\n",
    "print(\"Median(weight) = \", np.median(np_city[:,1]))"
   ]
  },
  {
   "cell_type": "code",
   "execution_count": 11,
   "metadata": {},
   "outputs": [
    {
     "name": "stdout",
     "output_type": "stream",
     "text": [
      "Correlation(height, weight) =  [[ 1.00000000e+00 -1.62389038e-04]\n",
      " [-1.62389038e-04  1.00000000e+00]]\n"
     ]
    }
   ],
   "source": [
    "# Get correlation between height and weight:\n",
    "print(\"Correlation(height, weight) = \", np.corrcoef(np_city[:,0], np_city[:,1]))"
   ]
  },
  {
   "cell_type": "markdown",
   "metadata": {},
   "source": [
    "# 4. Matplotlib"
   ]
  },
  {
   "cell_type": "code",
   "execution_count": 12,
   "metadata": {},
   "outputs": [
    {
     "data": {
      "text/plain": [
       "<Figure size 640x480 with 1 Axes>"
      ]
     },
     "metadata": {},
     "output_type": "display_data"
    }
   ],
   "source": [
    "import matplotlib.pyplot as plt\n",
    "\n",
    "year = [1950, 1970, 1990, 2010]\n",
    "pop = [2.519, 3.692, 5.263, 6.972]\n",
    "\n",
    "year = [1800, 1850, 1900] + year\n",
    "pop = [1.0, 1.262, 1.650] + pop\n",
    "\n",
    "plt.plot(year, pop)\n",
    "         \n",
    "plt.xlabel('Year')\n",
    "plt.ylabel('Population')\n",
    "plt.title('World Population Projections')\n",
    "plt.yticks([0, 2, 4, 6, 8, 10], \n",
    "           ['0', '2B', '4B', '6B', '8B', '10B'])\n",
    "\n",
    "plt.show()"
   ]
  },
  {
   "cell_type": "markdown",
   "metadata": {},
   "source": [
    "## 4.1 Scatter Plots\n",
    "When you have a time scale along the horizontal axis, the line plot is your friend. But in many other cases, when you're trying to assess if there's a correlation between two variables, for example, the scatter plot is the better choice. Below is an example of how to build a scatter plot."
   ]
  },
  {
   "cell_type": "markdown",
   "metadata": {},
   "source": [
    "## 4.2 Histogram\n",
    "\n",
    "Histograms allow you to explore a dataset and get an **idea about the distribution**. "
   ]
  },
  {
   "cell_type": "code",
   "execution_count": 13,
   "metadata": {},
   "outputs": [
    {
     "name": "stdout",
     "output_type": "stream",
     "text": [
      "Help on function hist in module matplotlib.pyplot:\n",
      "\n",
      "hist(x, bins=None, range=None, density=None, weights=None, cumulative=False, bottom=None, histtype='bar', align='mid', orientation='vertical', rwidth=None, log=False, color=None, label=None, stacked=False, normed=None, hold=None, data=None, **kwargs)\n",
      "    Plot a histogram.\n",
      "    \n",
      "    Compute and draw the histogram of *x*. The return value is a\n",
      "    tuple (*n*, *bins*, *patches*) or ([*n0*, *n1*, ...], *bins*,\n",
      "    [*patches0*, *patches1*,...]) if the input contains multiple\n",
      "    data.\n",
      "    \n",
      "    Multiple data can be provided via *x* as a list of datasets\n",
      "    of potentially different length ([*x0*, *x1*, ...]), or as\n",
      "    a 2-D ndarray in which each column is a dataset.  Note that\n",
      "    the ndarray form is transposed relative to the list form.\n",
      "    \n",
      "    Masked arrays are not supported at present.\n",
      "    \n",
      "    Parameters\n",
      "    ----------\n",
      "    x : (n,) array or sequence of (n,) arrays\n",
      "        Input values, this takes either a single array or a sequence of\n",
      "        arrays which are not required to be of the same length\n",
      "    \n",
      "    bins : integer or sequence or 'auto', optional\n",
      "        If an integer is given, ``bins + 1`` bin edges are calculated and\n",
      "        returned, consistent with :func:`numpy.histogram`.\n",
      "    \n",
      "        If `bins` is a sequence, gives bin edges, including left edge of\n",
      "        first bin and right edge of last bin.  In this case, `bins` is\n",
      "        returned unmodified.\n",
      "    \n",
      "        All but the last (righthand-most) bin is half-open.  In other\n",
      "        words, if `bins` is::\n",
      "    \n",
      "            [1, 2, 3, 4]\n",
      "    \n",
      "        then the first bin is ``[1, 2)`` (including 1, but excluding 2) and\n",
      "        the second ``[2, 3)``.  The last bin, however, is ``[3, 4]``, which\n",
      "        *includes* 4.\n",
      "    \n",
      "        Unequally spaced bins are supported if *bins* is a sequence.\n",
      "    \n",
      "        If Numpy 1.11 is installed, may also be ``'auto'``.\n",
      "    \n",
      "        Default is taken from the rcParam ``hist.bins``.\n",
      "    \n",
      "    range : tuple or None, optional\n",
      "        The lower and upper range of the bins. Lower and upper outliers\n",
      "        are ignored. If not provided, *range* is ``(x.min(), x.max())``.\n",
      "        Range has no effect if *bins* is a sequence.\n",
      "    \n",
      "        If *bins* is a sequence or *range* is specified, autoscaling\n",
      "        is based on the specified bin range instead of the\n",
      "        range of x.\n",
      "    \n",
      "        Default is ``None``\n",
      "    \n",
      "    density : boolean, optional\n",
      "        If ``True``, the first element of the return tuple will\n",
      "        be the counts normalized to form a probability density, i.e.,\n",
      "        the area (or integral) under the histogram will sum to 1.\n",
      "        This is achieved by dividing the count by the number of\n",
      "        observations times the bin width and not dividing by the total\n",
      "        number of observations. If *stacked* is also ``True``, the sum of\n",
      "        the histograms is normalized to 1.\n",
      "    \n",
      "        Default is ``None`` for both *normed* and *density*. If either is\n",
      "        set, then that value will be used. If neither are set, then the\n",
      "        args will be treated as ``False``.\n",
      "    \n",
      "        If both *density* and *normed* are set an error is raised.\n",
      "    \n",
      "    weights : (n, ) array_like or None, optional\n",
      "        An array of weights, of the same shape as *x*.  Each value in *x*\n",
      "        only contributes its associated weight towards the bin count\n",
      "        (instead of 1).  If *normed* or *density* is ``True``,\n",
      "        the weights are normalized, so that the integral of the density\n",
      "        over the range remains 1.\n",
      "    \n",
      "        Default is ``None``\n",
      "    \n",
      "    cumulative : boolean, optional\n",
      "        If ``True``, then a histogram is computed where each bin gives the\n",
      "        counts in that bin plus all bins for smaller values. The last bin\n",
      "        gives the total number of datapoints. If *normed* or *density*\n",
      "        is also ``True`` then the histogram is normalized such that the\n",
      "        last bin equals 1. If *cumulative* evaluates to less than 0\n",
      "        (e.g., -1), the direction of accumulation is reversed.\n",
      "        In this case, if *normed* and/or *density* is also ``True``, then\n",
      "        the histogram is normalized such that the first bin equals 1.\n",
      "    \n",
      "        Default is ``False``\n",
      "    \n",
      "    bottom : array_like, scalar, or None\n",
      "        Location of the bottom baseline of each bin.  If a scalar,\n",
      "        the base line for each bin is shifted by the same amount.\n",
      "        If an array, each bin is shifted independently and the length\n",
      "        of bottom must match the number of bins.  If None, defaults to 0.\n",
      "    \n",
      "        Default is ``None``\n",
      "    \n",
      "    histtype : {'bar', 'barstacked', 'step',  'stepfilled'}, optional\n",
      "        The type of histogram to draw.\n",
      "    \n",
      "        - 'bar' is a traditional bar-type histogram.  If multiple data\n",
      "          are given the bars are arranged side by side.\n",
      "    \n",
      "        - 'barstacked' is a bar-type histogram where multiple\n",
      "          data are stacked on top of each other.\n",
      "    \n",
      "        - 'step' generates a lineplot that is by default\n",
      "          unfilled.\n",
      "    \n",
      "        - 'stepfilled' generates a lineplot that is by default\n",
      "          filled.\n",
      "    \n",
      "        Default is 'bar'\n",
      "    \n",
      "    align : {'left', 'mid', 'right'}, optional\n",
      "        Controls how the histogram is plotted.\n",
      "    \n",
      "            - 'left': bars are centered on the left bin edges.\n",
      "    \n",
      "            - 'mid': bars are centered between the bin edges.\n",
      "    \n",
      "            - 'right': bars are centered on the right bin edges.\n",
      "    \n",
      "        Default is 'mid'\n",
      "    \n",
      "    orientation : {'horizontal', 'vertical'}, optional\n",
      "        If 'horizontal', `~matplotlib.pyplot.barh` will be used for\n",
      "        bar-type histograms and the *bottom* kwarg will be the left edges.\n",
      "    \n",
      "    rwidth : scalar or None, optional\n",
      "        The relative width of the bars as a fraction of the bin width.  If\n",
      "        ``None``, automatically compute the width.\n",
      "    \n",
      "        Ignored if *histtype* is 'step' or 'stepfilled'.\n",
      "    \n",
      "        Default is ``None``\n",
      "    \n",
      "    log : boolean, optional\n",
      "        If ``True``, the histogram axis will be set to a log scale. If\n",
      "        *log* is ``True`` and *x* is a 1D array, empty bins will be\n",
      "        filtered out and only the non-empty ``(n, bins, patches)``\n",
      "        will be returned.\n",
      "    \n",
      "        Default is ``False``\n",
      "    \n",
      "    color : color or array_like of colors or None, optional\n",
      "        Color spec or sequence of color specs, one per dataset.  Default\n",
      "        (``None``) uses the standard line color sequence.\n",
      "    \n",
      "        Default is ``None``\n",
      "    \n",
      "    label : string or None, optional\n",
      "        String, or sequence of strings to match multiple datasets.  Bar\n",
      "        charts yield multiple patches per dataset, but only the first gets\n",
      "        the label, so that the legend command will work as expected.\n",
      "    \n",
      "        default is ``None``\n",
      "    \n",
      "    stacked : boolean, optional\n",
      "        If ``True``, multiple data are stacked on top of each other If\n",
      "        ``False`` multiple data are arranged side by side if histtype is\n",
      "        'bar' or on top of each other if histtype is 'step'\n",
      "    \n",
      "        Default is ``False``\n",
      "    \n",
      "    normed : bool, optional\n",
      "        Deprecated; use the density keyword argument instead.\n",
      "    \n",
      "    Returns\n",
      "    -------\n",
      "    n : array or list of arrays\n",
      "        The values of the histogram bins. See *normed* or *density*\n",
      "        and *weights* for a description of the possible semantics.\n",
      "        If input *x* is an array, then this is an array of length\n",
      "        *nbins*. If input is a sequence arrays\n",
      "        ``[data1, data2,..]``, then this is a list of arrays with\n",
      "        the values of the histograms for each of the arrays in the\n",
      "        same order.\n",
      "    \n",
      "    bins : array\n",
      "        The edges of the bins. Length nbins + 1 (nbins left edges and right\n",
      "        edge of last bin).  Always a single array even when multiple data\n",
      "        sets are passed in.\n",
      "    \n",
      "    patches : list or list of lists\n",
      "        Silent list of individual patches used to create the histogram\n",
      "        or list of such list if multiple input datasets.\n",
      "    \n",
      "    Other Parameters\n",
      "    ----------------\n",
      "    **kwargs : `~matplotlib.patches.Patch` properties\n",
      "    \n",
      "    See also\n",
      "    --------\n",
      "    hist2d : 2D histograms\n",
      "    \n",
      "    Notes\n",
      "    -----\n",
      "    .. [Notes section required for data comment. See #10189.]\n",
      "    \n",
      "    .. note::\n",
      "        In addition to the above described arguments, this function can take a\n",
      "        **data** keyword argument. If such a **data** argument is given, the\n",
      "        following arguments are replaced by **data[<arg>]**:\n",
      "    \n",
      "        * All arguments with the following names: 'weights', 'x'.\n",
      "\n"
     ]
    }
   ],
   "source": [
    "help(plt.hist)"
   ]
  },
  {
   "cell_type": "code",
   "execution_count": 14,
   "metadata": {},
   "outputs": [
    {
     "data": {
      "image/png": "[encoded data removed]",
      "text/plain": [
       "<Figure size 432x288 with 1 Axes>"
      ]
     },
     "metadata": {
      "needs_background": "light"
     },
     "output_type": "display_data"
    },
    {
     "data": {
      "text/plain": [
       "<Figure size 432x288 with 0 Axes>"
      ]
     },
     "metadata": {},
     "output_type": "display_data"
    }
   ],
   "source": [
    "values = [0, 0.6, 1.4, 1.6, 2.2, 2.5, 2.6, 3.2, 3.5, 3.9, 4.2, 6]\n",
    "plt.hist(values, bins=3)\n",
    "plt.show()\n",
    "plt.clf() # cleans up plot so you can start afresh"
   ]
  },
  {
   "cell_type": "code",
   "execution_count": 15,
   "metadata": {},
   "outputs": [
    {
     "data": {
      "image/png": "[encoded data removed]",
      "text/plain": [
       "<Figure size 432x288 with 1 Axes>"
      ]
     },
     "metadata": {
      "needs_background": "light"
     },
     "output_type": "display_data"
    },
    {
     "data": {
      "text/plain": [
       "<Figure size 432x288 with 0 Axes>"
      ]
     },
     "metadata": {},
     "output_type": "display_data"
    }
   ],
   "source": [
    "plt.hist(values, bins=5)\n",
    "plt.show()\n",
    "plt.clf()"
   ]
  },
  {
   "cell_type": "markdown",
   "metadata": {},
   "source": [
    "## 4.3 Data Visualization\n",
    "* Many options\n",
    "    * Different plot types\n",
    "    * Many customizations for each plot type!\n",
    "* The choice depends on:\n",
    "    * The data\n",
    "    * The story you want to tell and describe. "
   ]
  },
  {
   "cell_type": "code",
   "execution_count": 16,
   "metadata": {},
   "outputs": [],
   "source": [
    "gdp_cap = [974.5803384,\n",
    " 5937.029525999998,\n",
    " 6223.367465,\n",
    " 4797.231267,\n",
    " 12779.37964,\n",
    " 34435.367439999995,\n",
    " 36126.4927,\n",
    " 29796.04834,\n",
    " 1391.253792,\n",
    " 33692.60508,\n",
    " 1441.284873,\n",
    " 3822.137084,\n",
    " 7446.298803,\n",
    " 12569.85177,\n",
    " 9065.800825,\n",
    " 10680.79282,\n",
    " 1217.032994,\n",
    " 430.0706916,\n",
    " 1713.778686,\n",
    " 2042.09524,\n",
    " 36319.23501,\n",
    " 706.016537,\n",
    " 1704.063724,\n",
    " 13171.63885,\n",
    " 4959.114854,\n",
    " 7006.580419,\n",
    " 986.1478792,\n",
    " 277.5518587,\n",
    " 3632.557798,\n",
    " 9645.06142,\n",
    " 1544.750112,\n",
    " 14619.222719999998,\n",
    " 8948.102923,\n",
    " 22833.30851,\n",
    " 35278.41874,\n",
    " 2082.4815670000007,\n",
    " 6025.3747520000015,\n",
    " 6873.262326000001,\n",
    " 5581.180998,\n",
    " 5728.353514,\n",
    " 12154.08975,\n",
    " 641.3695236000002,\n",
    " 690.8055759,\n",
    " 33207.0844,\n",
    " 30470.0167,\n",
    " 13206.48452,\n",
    " 752.7497265,\n",
    " 32170.37442,\n",
    " 1327.60891,\n",
    " 27538.41188,\n",
    " 5186.050003,\n",
    " 942.6542111,\n",
    " 579.2317429999998,\n",
    " 1201.637154,\n",
    " 3548.3308460000007,\n",
    " 39724.97867,\n",
    " 18008.94444,\n",
    " 36180.78919,\n",
    " 2452.210407,\n",
    " 3540.651564,\n",
    " 11605.71449,\n",
    " 4471.061906,\n",
    " 40675.99635,\n",
    " 25523.2771,\n",
    " 28569.7197,\n",
    " 7320.8802620000015,\n",
    " 31656.06806,\n",
    " 4519.461171,\n",
    " 1463.249282,\n",
    " 1593.06548,\n",
    " 23348.139730000006,\n",
    " 47306.98978,\n",
    " 10461.05868,\n",
    " 1569.331442,\n",
    " 414.5073415,\n",
    " 12057.49928,\n",
    " 1044.770126,\n",
    " 759.3499101,\n",
    " 12451.6558,\n",
    " 1042.581557,\n",
    " 1803.151496,\n",
    " 10956.99112,\n",
    " 11977.57496,\n",
    " 3095.7722710000007,\n",
    " 9253.896111,\n",
    " 3820.17523,\n",
    " 823.6856205,\n",
    " 944.0,\n",
    " 4811.060429,\n",
    " 1091.359778,\n",
    " 36797.93332,\n",
    " 25185.00911,\n",
    " 2749.320965,\n",
    " 619.6768923999998,\n",
    " 2013.977305,\n",
    " 49357.19017,\n",
    " 22316.19287,\n",
    " 2605.94758,\n",
    " 9809.185636,\n",
    " 4172.838464,\n",
    " 7408.905561,\n",
    " 3190.481016,\n",
    " 15389.924680000002,\n",
    " 20509.64777,\n",
    " 19328.70901,\n",
    " 7670.122558,\n",
    " 10808.47561,\n",
    " 863.0884639000002,\n",
    " 1598.435089,\n",
    " 21654.83194,\n",
    " 1712.472136,\n",
    " 9786.534714,\n",
    " 862.5407561000002,\n",
    " 47143.17964,\n",
    " 18678.31435,\n",
    " 25768.25759,\n",
    " 926.1410683,\n",
    " 9269.657808,\n",
    " 28821.0637,\n",
    " 3970.095407,\n",
    " 2602.394995,\n",
    " 4513.480643,\n",
    " 33859.74835,\n",
    " 37506.41907,\n",
    " 4184.548089,\n",
    " 28718.27684,\n",
    " 1107.482182,\n",
    " 7458.396326999998,\n",
    " 882.9699437999999,\n",
    " 18008.50924,\n",
    " 7092.923025,\n",
    " 8458.276384,\n",
    " 1056.380121,\n",
    " 33203.26128,\n",
    " 42951.65309,\n",
    " 10611.46299,\n",
    " 11415.80569,\n",
    " 2441.576404,\n",
    " 3025.349798,\n",
    " 2280.769906,\n",
    " 1271.211593,\n",
    " 469.70929810000007]\n",
    "\n",
    "life_exp = [43.828,\n",
    " 76.423,\n",
    " 72.301,\n",
    " 42.731,\n",
    " 75.32,\n",
    " 81.235,\n",
    " 79.829,\n",
    " 75.635,\n",
    " 64.062,\n",
    " 79.441,\n",
    " 56.728,\n",
    " 65.554,\n",
    " 74.852,\n",
    " 50.728,\n",
    " 72.39,\n",
    " 73.005,\n",
    " 52.295,\n",
    " 49.58,\n",
    " 59.723,\n",
    " 50.43,\n",
    " 80.653,\n",
    " 44.74100000000001,\n",
    " 50.651,\n",
    " 78.553,\n",
    " 72.961,\n",
    " 72.889,\n",
    " 65.152,\n",
    " 46.462,\n",
    " 55.322,\n",
    " 78.782,\n",
    " 48.328,\n",
    " 75.748,\n",
    " 78.273,\n",
    " 76.486,\n",
    " 78.332,\n",
    " 54.791,\n",
    " 72.235,\n",
    " 74.994,\n",
    " 71.33800000000002,\n",
    " 71.878,\n",
    " 51.57899999999999,\n",
    " 58.04,\n",
    " 52.947,\n",
    " 79.313,\n",
    " 80.657,\n",
    " 56.735,\n",
    " 59.448,\n",
    " 79.406,\n",
    " 60.022,\n",
    " 79.483,\n",
    " 70.259,\n",
    " 56.007,\n",
    " 46.38800000000001,\n",
    " 60.916,\n",
    " 70.19800000000001,\n",
    " 82.208,\n",
    " 73.33800000000002,\n",
    " 81.757,\n",
    " 64.69800000000001,\n",
    " 70.65,\n",
    " 70.964,\n",
    " 59.545,\n",
    " 78.885,\n",
    " 80.745,\n",
    " 80.546,\n",
    " 72.567,\n",
    " 82.603,\n",
    " 72.535,\n",
    " 54.11,\n",
    " 67.297,\n",
    " 78.623,\n",
    " 77.58800000000002,\n",
    " 71.993,\n",
    " 42.592,\n",
    " 45.678,\n",
    " 73.952,\n",
    " 59.44300000000001,\n",
    " 48.303,\n",
    " 74.241,\n",
    " 54.467,\n",
    " 64.164,\n",
    " 72.801,\n",
    " 76.195,\n",
    " 66.803,\n",
    " 74.543,\n",
    " 71.164,\n",
    " 42.082,\n",
    " 62.069,\n",
    " 52.90600000000001,\n",
    " 63.785,\n",
    " 79.762,\n",
    " 80.204,\n",
    " 72.899,\n",
    " 56.867,\n",
    " 46.859,\n",
    " 80.196,\n",
    " 75.64,\n",
    " 65.483,\n",
    " 75.53699999999998,\n",
    " 71.752,\n",
    " 71.421,\n",
    " 71.688,\n",
    " 75.563,\n",
    " 78.098,\n",
    " 78.74600000000002,\n",
    " 76.442,\n",
    " 72.476,\n",
    " 46.242,\n",
    " 65.528,\n",
    " 72.777,\n",
    " 63.062,\n",
    " 74.002,\n",
    " 42.56800000000001,\n",
    " 79.972,\n",
    " 74.663,\n",
    " 77.926,\n",
    " 48.159,\n",
    " 49.339,\n",
    " 80.941,\n",
    " 72.396,\n",
    " 58.556,\n",
    " 39.613,\n",
    " 80.884,\n",
    " 81.70100000000002,\n",
    " 74.143,\n",
    " 78.4,\n",
    " 52.517,\n",
    " 70.616,\n",
    " 58.42,\n",
    " 69.819,\n",
    " 73.923,\n",
    " 71.777,\n",
    " 51.542,\n",
    " 79.425,\n",
    " 78.242,\n",
    " 76.384,\n",
    " 73.747,\n",
    " 74.249,\n",
    " 73.422,\n",
    " 62.698,\n",
    " 42.38399999999999,\n",
    " 43.487]"
   ]
  },
  {
   "cell_type": "code",
   "execution_count": 17,
   "metadata": {},
   "outputs": [
    {
     "data": {
      "image/png": "[encoded data removed]",
      "text/plain": [
       "<Figure size 432x288 with 1 Axes>"
      ]
     },
     "metadata": {
      "needs_background": "light"
     },
     "output_type": "display_data"
    }
   ],
   "source": [
    "# 's': controls the \"size\" of the scatter plots, they are now set to 2*pop\n",
    "# 'alpha': controls the opacity of the bubbles\n",
    "plt.scatter(gdp_cap, life_exp, s=np.array(pop)*2, alpha=0.8) \n",
    "\n",
    "plt.xscale('log') \n",
    "plt.xlabel('GDP per Capita [in USD]')\n",
    "plt.ylabel('Life Expectancy [in years]')\n",
    "plt.title('World Development in 2007')\n",
    "plt.xticks([1000, 10000, 100000],['1k', '10k', '100k'])\n",
    "\n",
    "# Additional customizations\n",
    "plt.text(1550, 71, 'India')\n",
    "plt.text(5700, 80, 'China')\n",
    "\n",
    "# Add grid() call\n",
    "plt.grid(True)\n",
    "\n",
    "plt.show()"
   ]
  },
  {
   "cell_type": "markdown",
   "metadata": {},
   "source": [
    "# 5. Dictionaries\n",
    "\n",
    "Dictionaries are another Python object type. The convention is something along the lines of:\n",
    "`my_dict = {'key1': \"value1\", 'key2': \"value2}`"
   ]
  },
  {
   "cell_type": "code",
   "execution_count": 18,
   "metadata": {},
   "outputs": [
    {
     "name": "stdout",
     "output_type": "stream",
     "text": [
      "2.77\n",
      "dict_keys(['afghanistan', 'albania', 'algeria'])\n"
     ]
    }
   ],
   "source": [
    "world = {'afghanistan': 30.55, 'albania': 2.77, 'algeria': 39.21}\n",
    "print(world['albania'])\n",
    "print(world.keys())"
   ]
  },
  {
   "cell_type": "markdown",
   "metadata": {},
   "source": [
    "## 5.1 Lists vs. Dictionaries\n",
    "\n",
    "Both lists and dictionaries allow you to select, update, and remove elements using the `[]` operator. \n",
    "\n",
    "However, here are some key differences:\n",
    "* `lists`: \n",
    "    * Indexed by a **range of numbers**.\n",
    "    * Collection of values where **order matters**: can select entire subsets.\n",
    "\n",
    "* `dictionaries`: \n",
    "    * Indexed by **unique keys**. \n",
    "    * Order doesn't matter: Can simply lookup values with **unique keys**."
   ]
  },
  {
   "cell_type": "markdown",
   "metadata": {},
   "source": [
    "# 6. Pandas\n",
    "\n",
    "As a data scientist, you will encounter different types of datasets. A common structure across different datasets is going to be a **tabular structure**.\n",
    "\n",
    "**Table 1:**\n",
    "\n",
    "| temp     | measured_at | location     |\n",
    "| :----:   |    :----:   |            :----: |\n",
    "|   76     | 2016-01-01 14:00:01   | valve         |\n",
    "|   86     | 2016-01-01 14:00:01   | compressor    |\n",
    "|   72     | 2016-01-01 15:00:01   | valve         |\n",
    "|   88     | 2016-01-01 15:00:01   | compressor    |\n",
    "|   68     | 2016-01-01 16:00:01   | valve         |\n",
    "|   78     | 2016-01-01 16:00:01   | compressor    |\n",
    "\n",
    "In **Table 1** above, *rows=observations* and *columns=variables*. There are other examples of tables like this. \n",
    "\n",
    "In the end, you want some rectangular structure. A first-pass would be to use a 2-D NumPy array, but we have different data types!\n",
    "\n",
    "We will use the `pandas` package, a high-level data manipulation tool built on `NumPy` and developed by [Wes McKinney](http://wesmckinney.com/). To use, you need: \n",
    "* <code><strong>import</strong> pandas <strong>as</strong> pd</code>\n",
    "\n",
    "The key object types are `Series` and `DataFrames`, which have row and column index labels.\n",
    "The `DataFrame` is one of Pandas' most important data structures: provides both a powerful and efficient way to store tabular data where you can label the rows and the columns.\n",
    "\n",
    "### DataFrame from Dictionary\n",
    "We can create a dataframe `df` object from a dictionary `dict` using commands like:\n",
    "* `df = pd.DataFrame(dict)`\n",
    "\n",
    "### DataFrame from CSV (comma-separated values)\n",
    "We can create a dataframe `df` object from a csv file `filename.csv` using commands like:\n",
    "* `df = pd.read_csv(filename.csv, index_col=0`)\n",
    "\n",
    "where `index_col=0` tells the `read_csv` function to treat the first column of the `.csv` file as the row index labels."
   ]
  },
  {
   "cell_type": "markdown",
   "metadata": {},
   "source": [
    "### DataFrame from list of lists\n",
    "\n",
    "We can built a `DataFrame` from a list of lists using the function `zip`, which is part of Python's standard library. The `zip()` function takes an iterable, makes an iterator that aggregates elements based on the iterables passed, and then returns an iterator of tuples. In other words, it creates a tuple based on element-wise matches between the iterables passed to `zip()`."
   ]
  },
  {
   "cell_type": "code",
   "execution_count": 19,
   "metadata": {},
   "outputs": [
    {
     "name": "stdout",
     "output_type": "stream",
     "text": [
      "[('city', ['Austin', 'Dallas', 'Austin', 'Dallas']), ('signups', [7, 12, 3, 5]), ('visitors', [139, 237, 326, 456]), ('weekday', ['Sun', 'Sun', 'Mon', 'Mon'])] \n",
      "\n"
     ]
    },
    {
     "ename": "NameError",
     "evalue": "name 'pd' is not defined",
     "output_type": "error",
     "traceback": [
      "\u001b[0;31m---------------------------------------------------------------------------\u001b[0m",
      "\u001b[0;31mNameError\u001b[0m                                 Traceback (most recent call last)",
      "\u001b[0;32m<ipython-input-19-0d92479d77c2>\u001b[0m in \u001b[0;36m<module>\u001b[0;34m\u001b[0m\n\u001b[1;32m     10\u001b[0m \u001b[0;34m\u001b[0m\u001b[0m\n\u001b[1;32m     11\u001b[0m \u001b[0mdata\u001b[0m \u001b[0;34m=\u001b[0m \u001b[0mdict\u001b[0m\u001b[0;34m(\u001b[0m\u001b[0mzipped\u001b[0m\u001b[0;34m)\u001b[0m\u001b[0;34m\u001b[0m\u001b[0;34m\u001b[0m\u001b[0m\n\u001b[0;32m---> 12\u001b[0;31m \u001b[0musers\u001b[0m \u001b[0;34m=\u001b[0m \u001b[0mpd\u001b[0m\u001b[0;34m.\u001b[0m\u001b[0mDataFrame\u001b[0m\u001b[0;34m(\u001b[0m\u001b[0mdata\u001b[0m\u001b[0;34m)\u001b[0m\u001b[0;34m\u001b[0m\u001b[0;34m\u001b[0m\u001b[0m\n\u001b[0m\u001b[1;32m     13\u001b[0m \u001b[0mprint\u001b[0m\u001b[0;34m(\u001b[0m\u001b[0musers\u001b[0m\u001b[0;34m)\u001b[0m\u001b[0;34m\u001b[0m\u001b[0;34m\u001b[0m\u001b[0m\n",
      "\u001b[0;31mNameError\u001b[0m: name 'pd' is not defined"
     ]
    }
   ],
   "source": [
    "cities = ['Austin', 'Dallas', 'Austin', 'Dallas']\n",
    "signups = [7, 12, 3, 5]\n",
    "visitors = [139, 237, 326, 456]\n",
    "weekdays = ['Sun', 'Sun', 'Mon', 'Mon']\n",
    "list_labels = ['city', 'signups', 'visitors', 'weekday']\n",
    "list_cols = [cities, signups, visitors, weekdays]\n",
    "\n",
    "zipped = list(zip(list_labels, list_cols))\n",
    "print(zipped, '\\n')\n",
    "\n",
    "data = dict(zipped)\n",
    "users = pd.DataFrame(data)\n",
    "print(users)"
   ]
  },
  {
   "cell_type": "markdown",
   "metadata": {},
   "source": [
    "## 6.1 Indexing and Selection of Data\n",
    "\n",
    "Square brackets work but only gives you limited functionality. Ideally, you want something to how elements in 2D `NumPy` arrays are selected.\n",
    "\n",
    "In Pandas, you use the following:\n",
    "* `loc` (label-based)\n",
    "* `iloc` (integet position-based, starting at 0)\n"
   ]
  },
  {
   "cell_type": "code",
   "execution_count": 20,
   "metadata": {},
   "outputs": [
    {
     "name": "stdout",
     "output_type": "stream",
     "text": [
      "         country    capital    area  population\n",
      "                                               \n",
      "BR        Brazil   Brasilia   8.516      200.40\n",
      "RU        Russia     Moscow  17.100      143.50\n",
      "IN         India  New Delhi   3.286     1252.00\n",
      "CH         China    Beijing   9.597     1357.00\n",
      "SA  South Africa   Pretoria   1.221       52.98\n",
      "\n",
      "<class 'pandas.core.indexes.base.Index'>\n"
     ]
    }
   ],
   "source": [
    "import pandas as pd\n",
    "\n",
    "country = ['Brazil', 'Russia', 'India', 'China', 'South Africa']\n",
    "capital = ['Brasilia', 'Moscow', 'New Delhi', 'Beijing', 'Pretoria']\n",
    "area = [8.516, 17.100, 3.286, 9.597, 1.221]\n",
    "population = [200.40, 143.50, 1252.00, 1357.00, 52.98]\n",
    "labels = ['BR', 'RU', 'IN', 'CH', 'SA']\n",
    "\n",
    "data = {'':labels, 'country':country, 'capital':capital, 'area':area, 'population':population}\n",
    "brics = pd.DataFrame.from_dict(data)\n",
    "brics.set_index('', inplace=True, drop=True)\n",
    "\n",
    "print(brics)\n",
    "print()\n",
    "print(type(brics.index))"
   ]
  },
  {
   "cell_type": "markdown",
   "metadata": {},
   "source": [
    "The method `info` provides you with information about the `DataFrame` brics. For example, we can get the total number of non-missing (non-null) observations in a given column. "
   ]
  },
  {
   "cell_type": "code",
   "execution_count": 21,
   "metadata": {},
   "outputs": [
    {
     "name": "stdout",
     "output_type": "stream",
     "text": [
      "<class 'pandas.core.frame.DataFrame'>\n",
      "Index: 5 entries, BR to SA\n",
      "Data columns (total 4 columns):\n",
      "country       5 non-null object\n",
      "capital       5 non-null object\n",
      "area          5 non-null float64\n",
      "population    5 non-null float64\n",
      "dtypes: float64(2), object(2)\n",
      "memory usage: 200.0+ bytes\n"
     ]
    }
   ],
   "source": [
    "brics.info()"
   ]
  },
  {
   "cell_type": "markdown",
   "metadata": {},
   "source": [
    "A column in a `DataFrame` object is a `Series` object:"
   ]
  },
  {
   "cell_type": "code",
   "execution_count": 22,
   "metadata": {},
   "outputs": [
    {
     "name": "stdout",
     "output_type": "stream",
     "text": [
      "<class 'pandas.core.series.Series'>\n"
     ]
    }
   ],
   "source": [
    "print(type(brics[\"country\"]))"
   ]
  },
  {
   "cell_type": "markdown",
   "metadata": {},
   "source": [
    "When using the method `values` on a `Series`, we get a `Numpy` array object:"
   ]
  },
  {
   "cell_type": "code",
   "execution_count": 23,
   "metadata": {},
   "outputs": [
    {
     "name": "stdout",
     "output_type": "stream",
     "text": [
      "<class 'numpy.ndarray'>\n"
     ]
    }
   ],
   "source": [
    "print(type(brics.country.values))"
   ]
  },
  {
   "cell_type": "markdown",
   "metadata": {},
   "source": [
    "Summarizing, it is **VERY IMPORTANT** to understand how `NumPy` and pandas work together in order to efficiently and effectively perform your desired computations."
   ]
  },
  {
   "cell_type": "markdown",
   "metadata": {},
   "source": [
    "### 6.1.1   Accessing using [ ]\n",
    "\n",
    "**Note**: You can only select rows using square brackets if you specify a slice, like `0:4`. Also, you're using the integer indexes of the rows here, not the row labels!"
   ]
  },
  {
   "cell_type": "code",
   "execution_count": 24,
   "metadata": {},
   "outputs": [
    {
     "name": "stdout",
     "output_type": "stream",
     "text": [
      "\n",
      "BR          Brazil\n",
      "RU          Russia\n",
      "IN           India\n",
      "CH           China\n",
      "SA    South Africa\n",
      "Name: country, dtype: object\n",
      "<class 'pandas.core.series.Series'>\n",
      "         country\n",
      "                \n",
      "BR        Brazil\n",
      "RU        Russia\n",
      "IN         India\n",
      "CH         China\n",
      "SA  South Africa\n",
      "<class 'pandas.core.frame.DataFrame'>\n",
      "         country    capital\n",
      "                           \n",
      "BR        Brazil   Brasilia\n",
      "RU        Russia     Moscow\n",
      "IN         India  New Delhi\n",
      "CH         China    Beijing\n",
      "SA  South Africa   Pretoria\n",
      "<class 'pandas.core.frame.DataFrame'>\n"
     ]
    },
    {
     "data": {
      "text/html": [
       "<div>\n",
       "<style scoped>\n",
       "    .dataframe tbody tr th:only-of-type {\n",
       "        vertical-align: middle;\n",
       "    }\n",
       "\n",
       "    .dataframe tbody tr th {\n",
       "        vertical-align: top;\n",
       "    }\n",
       "\n",
       "    .dataframe thead th {\n",
       "        text-align: right;\n",
       "    }\n",
       "</style>\n",
       "<table border=\"1\" class=\"dataframe\">\n",
       "  <thead>\n",
       "    <tr style=\"text-align: right;\">\n",
       "      <th></th>\n",
       "      <th>country</th>\n",
       "      <th>capital</th>\n",
       "      <th>area</th>\n",
       "      <th>population</th>\n",
       "    </tr>\n",
       "    <tr>\n",
       "      <th></th>\n",
       "      <th></th>\n",
       "      <th></th>\n",
       "      <th></th>\n",
       "      <th></th>\n",
       "    </tr>\n",
       "  </thead>\n",
       "  <tbody>\n",
       "    <tr>\n",
       "      <th>RU</th>\n",
       "      <td>Russia</td>\n",
       "      <td>Moscow</td>\n",
       "      <td>17.100</td>\n",
       "      <td>143.5</td>\n",
       "    </tr>\n",
       "    <tr>\n",
       "      <th>IN</th>\n",
       "      <td>India</td>\n",
       "      <td>New Delhi</td>\n",
       "      <td>3.286</td>\n",
       "      <td>1252.0</td>\n",
       "    </tr>\n",
       "    <tr>\n",
       "      <th>CH</th>\n",
       "      <td>China</td>\n",
       "      <td>Beijing</td>\n",
       "      <td>9.597</td>\n",
       "      <td>1357.0</td>\n",
       "    </tr>\n",
       "  </tbody>\n",
       "</table>\n",
       "</div>"
      ],
      "text/plain": [
       "   country    capital    area  population\n",
       "                                         \n",
       "RU  Russia     Moscow  17.100       143.5\n",
       "IN   India  New Delhi   3.286      1252.0\n",
       "CH   China    Beijing   9.597      1357.0"
      ]
     },
     "execution_count": 24,
     "metadata": {},
     "output_type": "execute_result"
    }
   ],
   "source": [
    "### Column Access\n",
    "print(brics['country'])\n",
    "print(type(brics['country']))\n",
    "print(brics[['country']])\n",
    "print(type(brics[['country']]))\n",
    "print(brics[['country', 'capital']])\n",
    "print(type(brics[['country', 'capital']]))\n",
    "\n",
    "### Row Access\n",
    "brics[1:4]"
   ]
  },
  {
   "cell_type": "markdown",
   "metadata": {},
   "source": [
    "### 6.1.2 Row Access `loc`"
   ]
  },
  {
   "cell_type": "code",
   "execution_count": 25,
   "metadata": {},
   "outputs": [
    {
     "data": {
      "text/plain": [
       "country       Russia\n",
       "capital       Moscow\n",
       "area            17.1\n",
       "population     143.5\n",
       "Name: RU, dtype: object"
      ]
     },
     "execution_count": 25,
     "metadata": {},
     "output_type": "execute_result"
    }
   ],
   "source": [
    "### Single brackets ---> Pandas 'Series' object \n",
    "brics.loc['RU']"
   ]
  },
  {
   "cell_type": "code",
   "execution_count": 26,
   "metadata": {},
   "outputs": [
    {
     "data": {
      "text/html": [
       "<div>\n",
       "<style scoped>\n",
       "    .dataframe tbody tr th:only-of-type {\n",
       "        vertical-align: middle;\n",
       "    }\n",
       "\n",
       "    .dataframe tbody tr th {\n",
       "        vertical-align: top;\n",
       "    }\n",
       "\n",
       "    .dataframe thead th {\n",
       "        text-align: right;\n",
       "    }\n",
       "</style>\n",
       "<table border=\"1\" class=\"dataframe\">\n",
       "  <thead>\n",
       "    <tr style=\"text-align: right;\">\n",
       "      <th></th>\n",
       "      <th>country</th>\n",
       "      <th>capital</th>\n",
       "      <th>area</th>\n",
       "      <th>population</th>\n",
       "    </tr>\n",
       "    <tr>\n",
       "      <th></th>\n",
       "      <th></th>\n",
       "      <th></th>\n",
       "      <th></th>\n",
       "      <th></th>\n",
       "    </tr>\n",
       "  </thead>\n",
       "  <tbody>\n",
       "    <tr>\n",
       "      <th>RU</th>\n",
       "      <td>Russia</td>\n",
       "      <td>Moscow</td>\n",
       "      <td>17.1</td>\n",
       "      <td>143.5</td>\n",
       "    </tr>\n",
       "  </tbody>\n",
       "</table>\n",
       "</div>"
      ],
      "text/plain": [
       "   country capital  area  population\n",
       "                                    \n",
       "RU  Russia  Moscow  17.1       143.5"
      ]
     },
     "execution_count": 26,
     "metadata": {},
     "output_type": "execute_result"
    }
   ],
   "source": [
    "### Single brackets ---> Pandas 'DataFrame' object \n",
    "brics.loc[['RU']]"
   ]
  },
  {
   "cell_type": "code",
   "execution_count": 27,
   "metadata": {},
   "outputs": [
    {
     "data": {
      "text/html": [
       "<div>\n",
       "<style scoped>\n",
       "    .dataframe tbody tr th:only-of-type {\n",
       "        vertical-align: middle;\n",
       "    }\n",
       "\n",
       "    .dataframe tbody tr th {\n",
       "        vertical-align: top;\n",
       "    }\n",
       "\n",
       "    .dataframe thead th {\n",
       "        text-align: right;\n",
       "    }\n",
       "</style>\n",
       "<table border=\"1\" class=\"dataframe\">\n",
       "  <thead>\n",
       "    <tr style=\"text-align: right;\">\n",
       "      <th></th>\n",
       "      <th>country</th>\n",
       "      <th>capital</th>\n",
       "      <th>area</th>\n",
       "      <th>population</th>\n",
       "    </tr>\n",
       "    <tr>\n",
       "      <th></th>\n",
       "      <th></th>\n",
       "      <th></th>\n",
       "      <th></th>\n",
       "      <th></th>\n",
       "    </tr>\n",
       "  </thead>\n",
       "  <tbody>\n",
       "    <tr>\n",
       "      <th>RU</th>\n",
       "      <td>Russia</td>\n",
       "      <td>Moscow</td>\n",
       "      <td>17.100</td>\n",
       "      <td>143.5</td>\n",
       "    </tr>\n",
       "    <tr>\n",
       "      <th>IN</th>\n",
       "      <td>India</td>\n",
       "      <td>New Delhi</td>\n",
       "      <td>3.286</td>\n",
       "      <td>1252.0</td>\n",
       "    </tr>\n",
       "    <tr>\n",
       "      <th>CH</th>\n",
       "      <td>China</td>\n",
       "      <td>Beijing</td>\n",
       "      <td>9.597</td>\n",
       "      <td>1357.0</td>\n",
       "    </tr>\n",
       "  </tbody>\n",
       "</table>\n",
       "</div>"
      ],
      "text/plain": [
       "   country    capital    area  population\n",
       "                                         \n",
       "RU  Russia     Moscow  17.100       143.5\n",
       "IN   India  New Delhi   3.286      1252.0\n",
       "CH   China    Beijing   9.597      1357.0"
      ]
     },
     "execution_count": 27,
     "metadata": {},
     "output_type": "execute_result"
    }
   ],
   "source": [
    "brics.loc[['RU', 'IN', 'CH']]"
   ]
  },
  {
   "cell_type": "markdown",
   "metadata": {},
   "source": [
    "### 6.1.3 Row and Column access with `loc`"
   ]
  },
  {
   "cell_type": "code",
   "execution_count": 28,
   "metadata": {},
   "outputs": [
    {
     "data": {
      "text/html": [
       "<div>\n",
       "<style scoped>\n",
       "    .dataframe tbody tr th:only-of-type {\n",
       "        vertical-align: middle;\n",
       "    }\n",
       "\n",
       "    .dataframe tbody tr th {\n",
       "        vertical-align: top;\n",
       "    }\n",
       "\n",
       "    .dataframe thead th {\n",
       "        text-align: right;\n",
       "    }\n",
       "</style>\n",
       "<table border=\"1\" class=\"dataframe\">\n",
       "  <thead>\n",
       "    <tr style=\"text-align: right;\">\n",
       "      <th></th>\n",
       "      <th>country</th>\n",
       "      <th>capital</th>\n",
       "    </tr>\n",
       "    <tr>\n",
       "      <th></th>\n",
       "      <th></th>\n",
       "      <th></th>\n",
       "    </tr>\n",
       "  </thead>\n",
       "  <tbody>\n",
       "    <tr>\n",
       "      <th>RU</th>\n",
       "      <td>Russia</td>\n",
       "      <td>Moscow</td>\n",
       "    </tr>\n",
       "    <tr>\n",
       "      <th>IN</th>\n",
       "      <td>India</td>\n",
       "      <td>New Delhi</td>\n",
       "    </tr>\n",
       "    <tr>\n",
       "      <th>CH</th>\n",
       "      <td>China</td>\n",
       "      <td>Beijing</td>\n",
       "    </tr>\n",
       "  </tbody>\n",
       "</table>\n",
       "</div>"
      ],
      "text/plain": [
       "   country    capital\n",
       "                     \n",
       "RU  Russia     Moscow\n",
       "IN   India  New Delhi\n",
       "CH   China    Beijing"
      ]
     },
     "execution_count": 28,
     "metadata": {},
     "output_type": "execute_result"
    }
   ],
   "source": [
    "brics.loc[['RU', 'IN', 'CH'], ['country', 'capital']]"
   ]
  },
  {
   "cell_type": "markdown",
   "metadata": {},
   "source": [
    "### 6.1.4 Column access with  `loc`"
   ]
  },
  {
   "cell_type": "code",
   "execution_count": 29,
   "metadata": {},
   "outputs": [
    {
     "data": {
      "text/html": [
       "<div>\n",
       "<style scoped>\n",
       "    .dataframe tbody tr th:only-of-type {\n",
       "        vertical-align: middle;\n",
       "    }\n",
       "\n",
       "    .dataframe tbody tr th {\n",
       "        vertical-align: top;\n",
       "    }\n",
       "\n",
       "    .dataframe thead th {\n",
       "        text-align: right;\n",
       "    }\n",
       "</style>\n",
       "<table border=\"1\" class=\"dataframe\">\n",
       "  <thead>\n",
       "    <tr style=\"text-align: right;\">\n",
       "      <th></th>\n",
       "      <th>country</th>\n",
       "      <th>capital</th>\n",
       "    </tr>\n",
       "    <tr>\n",
       "      <th></th>\n",
       "      <th></th>\n",
       "      <th></th>\n",
       "    </tr>\n",
       "  </thead>\n",
       "  <tbody>\n",
       "    <tr>\n",
       "      <th>BR</th>\n",
       "      <td>Brazil</td>\n",
       "      <td>Brasilia</td>\n",
       "    </tr>\n",
       "    <tr>\n",
       "      <th>RU</th>\n",
       "      <td>Russia</td>\n",
       "      <td>Moscow</td>\n",
       "    </tr>\n",
       "    <tr>\n",
       "      <th>IN</th>\n",
       "      <td>India</td>\n",
       "      <td>New Delhi</td>\n",
       "    </tr>\n",
       "    <tr>\n",
       "      <th>CH</th>\n",
       "      <td>China</td>\n",
       "      <td>Beijing</td>\n",
       "    </tr>\n",
       "    <tr>\n",
       "      <th>SA</th>\n",
       "      <td>South Africa</td>\n",
       "      <td>Pretoria</td>\n",
       "    </tr>\n",
       "  </tbody>\n",
       "</table>\n",
       "</div>"
      ],
      "text/plain": [
       "         country    capital\n",
       "                           \n",
       "BR        Brazil   Brasilia\n",
       "RU        Russia     Moscow\n",
       "IN         India  New Delhi\n",
       "CH         China    Beijing\n",
       "SA  South Africa   Pretoria"
      ]
     },
     "execution_count": 29,
     "metadata": {},
     "output_type": "execute_result"
    }
   ],
   "source": [
    "brics.loc[:, ['country', 'capital']]"
   ]
  },
  {
   "cell_type": "markdown",
   "metadata": {},
   "source": [
    "### 6.1.5 Row access with `iloc`"
   ]
  },
  {
   "cell_type": "code",
   "execution_count": 30,
   "metadata": {},
   "outputs": [
    {
     "data": {
      "text/html": [
       "<div>\n",
       "<style scoped>\n",
       "    .dataframe tbody tr th:only-of-type {\n",
       "        vertical-align: middle;\n",
       "    }\n",
       "\n",
       "    .dataframe tbody tr th {\n",
       "        vertical-align: top;\n",
       "    }\n",
       "\n",
       "    .dataframe thead th {\n",
       "        text-align: right;\n",
       "    }\n",
       "</style>\n",
       "<table border=\"1\" class=\"dataframe\">\n",
       "  <thead>\n",
       "    <tr style=\"text-align: right;\">\n",
       "      <th></th>\n",
       "      <th>country</th>\n",
       "      <th>capital</th>\n",
       "      <th>area</th>\n",
       "      <th>population</th>\n",
       "    </tr>\n",
       "    <tr>\n",
       "      <th></th>\n",
       "      <th></th>\n",
       "      <th></th>\n",
       "      <th></th>\n",
       "      <th></th>\n",
       "    </tr>\n",
       "  </thead>\n",
       "  <tbody>\n",
       "    <tr>\n",
       "      <th>RU</th>\n",
       "      <td>Russia</td>\n",
       "      <td>Moscow</td>\n",
       "      <td>17.100</td>\n",
       "      <td>143.50</td>\n",
       "    </tr>\n",
       "    <tr>\n",
       "      <th>IN</th>\n",
       "      <td>India</td>\n",
       "      <td>New Delhi</td>\n",
       "      <td>3.286</td>\n",
       "      <td>1252.00</td>\n",
       "    </tr>\n",
       "    <tr>\n",
       "      <th>SA</th>\n",
       "      <td>South Africa</td>\n",
       "      <td>Pretoria</td>\n",
       "      <td>1.221</td>\n",
       "      <td>52.98</td>\n",
       "    </tr>\n",
       "  </tbody>\n",
       "</table>\n",
       "</div>"
      ],
      "text/plain": [
       "         country    capital    area  population\n",
       "                                               \n",
       "RU        Russia     Moscow  17.100      143.50\n",
       "IN         India  New Delhi   3.286     1252.00\n",
       "SA  South Africa   Pretoria   1.221       52.98"
      ]
     },
     "execution_count": 30,
     "metadata": {},
     "output_type": "execute_result"
    }
   ],
   "source": [
    "brics.iloc[[1,2,4]]"
   ]
  },
  {
   "cell_type": "markdown",
   "metadata": {},
   "source": [
    "### 6.1.6 Column access with `iloc`"
   ]
  },
  {
   "cell_type": "code",
   "execution_count": 31,
   "metadata": {},
   "outputs": [
    {
     "data": {
      "text/html": [
       "<div>\n",
       "<style scoped>\n",
       "    .dataframe tbody tr th:only-of-type {\n",
       "        vertical-align: middle;\n",
       "    }\n",
       "\n",
       "    .dataframe tbody tr th {\n",
       "        vertical-align: top;\n",
       "    }\n",
       "\n",
       "    .dataframe thead th {\n",
       "        text-align: right;\n",
       "    }\n",
       "</style>\n",
       "<table border=\"1\" class=\"dataframe\">\n",
       "  <thead>\n",
       "    <tr style=\"text-align: right;\">\n",
       "      <th></th>\n",
       "      <th>country</th>\n",
       "      <th>capital</th>\n",
       "    </tr>\n",
       "    <tr>\n",
       "      <th></th>\n",
       "      <th></th>\n",
       "      <th></th>\n",
       "    </tr>\n",
       "  </thead>\n",
       "  <tbody>\n",
       "    <tr>\n",
       "      <th>BR</th>\n",
       "      <td>Brazil</td>\n",
       "      <td>Brasilia</td>\n",
       "    </tr>\n",
       "    <tr>\n",
       "      <th>RU</th>\n",
       "      <td>Russia</td>\n",
       "      <td>Moscow</td>\n",
       "    </tr>\n",
       "    <tr>\n",
       "      <th>IN</th>\n",
       "      <td>India</td>\n",
       "      <td>New Delhi</td>\n",
       "    </tr>\n",
       "    <tr>\n",
       "      <th>CH</th>\n",
       "      <td>China</td>\n",
       "      <td>Beijing</td>\n",
       "    </tr>\n",
       "    <tr>\n",
       "      <th>SA</th>\n",
       "      <td>South Africa</td>\n",
       "      <td>Pretoria</td>\n",
       "    </tr>\n",
       "  </tbody>\n",
       "</table>\n",
       "</div>"
      ],
      "text/plain": [
       "         country    capital\n",
       "                           \n",
       "BR        Brazil   Brasilia\n",
       "RU        Russia     Moscow\n",
       "IN         India  New Delhi\n",
       "CH         China    Beijing\n",
       "SA  South Africa   Pretoria"
      ]
     },
     "execution_count": 31,
     "metadata": {},
     "output_type": "execute_result"
    }
   ],
   "source": [
    "### Selecting only columns\n",
    "brics.iloc[:,[0,1]]"
   ]
  },
  {
   "cell_type": "markdown",
   "metadata": {},
   "source": [
    "# 7. Comparison Operators\n",
    "\n",
    "Comparing objects only makes sense if they are of the same \"type\". The notable exceptions are:\n",
    "* Comparing an `int` and `float`\n",
    "* Comparing an `int` and `bool` (since boolean is a special kind of integer)\n",
    "* Comparing a `float` and `bool` (since boolean is a special kind of integer)"
   ]
  },
  {
   "cell_type": "markdown",
   "metadata": {},
   "source": [
    "## 7.1 Boolean Operators\n",
    "The Boolean operators are `and`, `or`, and `not` for singleton booleans. "
   ]
  },
  {
   "cell_type": "code",
   "execution_count": 32,
   "metadata": {},
   "outputs": [
    {
     "name": "stdout",
     "output_type": "stream",
     "text": [
      "True \n",
      "\n",
      "False \n",
      "\n",
      "False \n",
      "\n",
      "False \n",
      "\n",
      "False \n",
      "\n"
     ]
    }
   ],
   "source": [
    "print(True and True, '\\n')\n",
    "print(False and True, '\\n')\n",
    "print(True and False, '\\n')\n",
    "print(False and False, '\\n')\n",
    "print(not True, '\\n')"
   ]
  },
  {
   "cell_type": "markdown",
   "metadata": {},
   "source": [
    "However, for `NumPy` arrays, we need to use:\n",
    "* `np.logical_and()`\n",
    "* `np.logical_or()`\n",
    "* `np.logical_not()`"
   ]
  },
  {
   "cell_type": "code",
   "execution_count": 33,
   "metadata": {},
   "outputs": [
    {
     "name": "stdout",
     "output_type": "stream",
     "text": [
      "[False  True False  True]\n",
      "[False False False  True]\n"
     ]
    }
   ],
   "source": [
    "import numpy as np\n",
    "my_house = np.array([18.0, 20.0, 10.75, 9.50])\n",
    "your_house = np.array([14.0, 24.0, 14.25, 9.0])\n",
    "\n",
    "### Which areas in \"my_house\" are greater than 18.5 or smaller than 10?\n",
    "print(np.logical_or(my_house > 18.5, my_house < 10))\n",
    "\n",
    "### Which areas are smaller than 11 in both \"my_house\" and \"your_house\"?\n",
    "print(np.logical_and(my_house < 11, your_house < 11))"
   ]
  },
  {
   "cell_type": "markdown",
   "metadata": {},
   "source": [
    "# 8. Conditional Statements:  `if`, `elif`, and `else`\n",
    "\n",
    "## 8.1 `if`\n",
    "For a simple `if` statement, the general structure is:<br>\n",
    "\n",
    "`if condition:`<br>\n",
    "$\\qquad$`expression`\n",
    "\n",
    "The indentation is **key**: everything under the `if condition:` that is indented will execute *if* the condition is met. "
   ]
  },
  {
   "cell_type": "code",
   "execution_count": 34,
   "metadata": {},
   "outputs": [
    {
     "name": "stdout",
     "output_type": "stream",
     "text": [
      "z is even\n"
     ]
    }
   ],
   "source": [
    "z = 4\n",
    "if z%2==0:\n",
    "    print(\"z is even\")"
   ]
  },
  {
   "cell_type": "markdown",
   "metadata": {},
   "source": [
    "## 8.2 `if` and `else`\n",
    "For an `if` statement with *a mutually exclusive condition*, the general structure is:<br>\n",
    "\n",
    "`if condition:`<br>\n",
    "$\\qquad$ `expression1` <br>\n",
    "`else:`<br>\n",
    "$\\qquad$`expression2`"
   ]
  },
  {
   "cell_type": "code",
   "execution_count": 35,
   "metadata": {},
   "outputs": [
    {
     "name": "stdout",
     "output_type": "stream",
     "text": [
      "z is odd\n"
     ]
    }
   ],
   "source": [
    "z = 5\n",
    "if z%2==0:\n",
    "    print(\"z is even\")\n",
    "else:\n",
    "    print(\"z is odd\")"
   ]
  },
  {
   "cell_type": "markdown",
   "metadata": {},
   "source": [
    "## 8.3 `if`, `elif` and  `else`\n",
    "For an `if` statement with *more than one mutually exclusive condition*, the general structure is:<br>\n",
    "\n",
    "`if condition1:`<br>\n",
    "$\\qquad$ `expression1` <br>\n",
    "`elif condition2:`<br>\n",
    "$\\qquad$ `expression2` <br>\n",
    "`else:` <br>\n",
    "$\\qquad$`expression3`"
   ]
  },
  {
   "cell_type": "code",
   "execution_count": 36,
   "metadata": {},
   "outputs": [
    {
     "name": "stdout",
     "output_type": "stream",
     "text": [
      "z is divisible by 3\n"
     ]
    }
   ],
   "source": [
    "z = 3\n",
    "if z%2==0:\n",
    "    print(\"z is divisible by 2\")\n",
    "elif z%3==0:\n",
    "    print(\"z is divisible by 3\")\n",
    "else:\n",
    "    print(\"z is neither divisible by 2 or 3!\")"
   ]
  },
  {
   "cell_type": "code",
   "execution_count": 37,
   "metadata": {},
   "outputs": [
    {
     "name": "stdout",
     "output_type": "stream",
     "text": [
      "z is divisible by 2\n"
     ]
    }
   ],
   "source": [
    "### Control Flow here only executes the 1st condition that is met, \n",
    "### even subsequent conditions could have been met. \n",
    "z = 6\n",
    "if z%2==0:\n",
    "    print(\"z is divisible by 2\")\n",
    "elif z%3==0:\n",
    "    print(\"z is divisible by 3\")\n",
    "else:\n",
    "    print(\"z is neither divisible by 2 or 3!\")"
   ]
  },
  {
   "cell_type": "markdown",
   "metadata": {},
   "source": [
    "# 9. Filtering DataFrames\n",
    "\n",
    "The problem below will combine comparison operators to filter a dataframe.\n",
    "\n",
    "**Objective** Select countries from the `brics` dataframe with area over 8 (million) km<sup>2</sup>. This will involve the following steps:\n",
    "\n",
    "1. Subset `brics` and select the column with the areas.\n",
    "2. Compare the area column to the figure of interest (i.e. 8)\n",
    "3. Use the results from 2. to select the countries."
   ]
  },
  {
   "cell_type": "code",
   "execution_count": 38,
   "metadata": {},
   "outputs": [
    {
     "name": "stdout",
     "output_type": "stream",
     "text": [
      "         country    capital    area  population\n",
      "                                               \n",
      "BR        Brazil   Brasilia   8.516      200.40\n",
      "RU        Russia     Moscow  17.100      143.50\n",
      "IN         India  New Delhi   3.286     1252.00\n",
      "CH         China    Beijing   9.597     1357.00\n",
      "SA  South Africa   Pretoria   1.221       52.98\n"
     ]
    }
   ],
   "source": [
    "### View the \"brics\" dataframe\n",
    "print(brics)"
   ]
  },
  {
   "cell_type": "code",
   "execution_count": 39,
   "metadata": {},
   "outputs": [
    {
     "data": {
      "text/plain": [
       "\n",
       "BR     8.516\n",
       "RU    17.100\n",
       "IN     3.286\n",
       "CH     9.597\n",
       "SA     1.221\n",
       "Name: area, dtype: float64"
      ]
     },
     "execution_count": 39,
     "metadata": {},
     "output_type": "execute_result"
    }
   ],
   "source": [
    "### Step 1:\n",
    "brics[\"area\"] # get a `Series` object, which is a column from the `DataFrame`"
   ]
  },
  {
   "cell_type": "code",
   "execution_count": 40,
   "metadata": {},
   "outputs": [
    {
     "name": "stdout",
     "output_type": "stream",
     "text": [
      "\n",
      "BR     True\n",
      "RU     True\n",
      "IN    False\n",
      "CH     True\n",
      "SA    False\n",
      "Name: area, dtype: bool\n"
     ]
    }
   ],
   "source": [
    "### Step 2:\n",
    "is_huge = brics[\"area\"] > 8\n",
    "print(is_huge)"
   ]
  },
  {
   "cell_type": "code",
   "execution_count": 41,
   "metadata": {},
   "outputs": [
    {
     "data": {
      "text/html": [
       "<div>\n",
       "<style scoped>\n",
       "    .dataframe tbody tr th:only-of-type {\n",
       "        vertical-align: middle;\n",
       "    }\n",
       "\n",
       "    .dataframe tbody tr th {\n",
       "        vertical-align: top;\n",
       "    }\n",
       "\n",
       "    .dataframe thead th {\n",
       "        text-align: right;\n",
       "    }\n",
       "</style>\n",
       "<table border=\"1\" class=\"dataframe\">\n",
       "  <thead>\n",
       "    <tr style=\"text-align: right;\">\n",
       "      <th></th>\n",
       "      <th>country</th>\n",
       "      <th>capital</th>\n",
       "      <th>area</th>\n",
       "      <th>population</th>\n",
       "    </tr>\n",
       "    <tr>\n",
       "      <th></th>\n",
       "      <th></th>\n",
       "      <th></th>\n",
       "      <th></th>\n",
       "      <th></th>\n",
       "    </tr>\n",
       "  </thead>\n",
       "  <tbody>\n",
       "    <tr>\n",
       "      <th>BR</th>\n",
       "      <td>Brazil</td>\n",
       "      <td>Brasilia</td>\n",
       "      <td>8.516</td>\n",
       "      <td>200.4</td>\n",
       "    </tr>\n",
       "    <tr>\n",
       "      <th>RU</th>\n",
       "      <td>Russia</td>\n",
       "      <td>Moscow</td>\n",
       "      <td>17.100</td>\n",
       "      <td>143.5</td>\n",
       "    </tr>\n",
       "    <tr>\n",
       "      <th>CH</th>\n",
       "      <td>China</td>\n",
       "      <td>Beijing</td>\n",
       "      <td>9.597</td>\n",
       "      <td>1357.0</td>\n",
       "    </tr>\n",
       "  </tbody>\n",
       "</table>\n",
       "</div>"
      ],
      "text/plain": [
       "   country   capital    area  population\n",
       "                                        \n",
       "BR  Brazil  Brasilia   8.516       200.4\n",
       "RU  Russia    Moscow  17.100       143.5\n",
       "CH   China   Beijing   9.597      1357.0"
      ]
     },
     "execution_count": 41,
     "metadata": {},
     "output_type": "execute_result"
    }
   ],
   "source": [
    "### Step 3:\n",
    "brics[is_huge] # Within the column `area`, we only select the `rows` with boolean \"True\""
   ]
  },
  {
   "cell_type": "markdown",
   "metadata": {},
   "source": [
    "Recalling that pandas is built on `NumPy`, we can also use boolean opeators as follows:"
   ]
  },
  {
   "cell_type": "code",
   "execution_count": 42,
   "metadata": {},
   "outputs": [
    {
     "data": {
      "text/plain": [
       "\n",
       "BR     True\n",
       "RU     True\n",
       "IN    False\n",
       "CH     True\n",
       "SA    False\n",
       "Name: area, dtype: bool"
      ]
     },
     "execution_count": 42,
     "metadata": {},
     "output_type": "execute_result"
    }
   ],
   "source": [
    "import numpy as np\n",
    "\n",
    "np.logical_and(brics[\"area\"] > 8, brics[\"area\"] > 8)"
   ]
  },
  {
   "cell_type": "code",
   "execution_count": 43,
   "metadata": {},
   "outputs": [
    {
     "data": {
      "text/html": [
       "<div>\n",
       "<style scoped>\n",
       "    .dataframe tbody tr th:only-of-type {\n",
       "        vertical-align: middle;\n",
       "    }\n",
       "\n",
       "    .dataframe tbody tr th {\n",
       "        vertical-align: top;\n",
       "    }\n",
       "\n",
       "    .dataframe thead th {\n",
       "        text-align: right;\n",
       "    }\n",
       "</style>\n",
       "<table border=\"1\" class=\"dataframe\">\n",
       "  <thead>\n",
       "    <tr style=\"text-align: right;\">\n",
       "      <th></th>\n",
       "      <th>country</th>\n",
       "      <th>capital</th>\n",
       "      <th>area</th>\n",
       "      <th>population</th>\n",
       "    </tr>\n",
       "    <tr>\n",
       "      <th></th>\n",
       "      <th></th>\n",
       "      <th></th>\n",
       "      <th></th>\n",
       "      <th></th>\n",
       "    </tr>\n",
       "  </thead>\n",
       "  <tbody>\n",
       "    <tr>\n",
       "      <th>BR</th>\n",
       "      <td>Brazil</td>\n",
       "      <td>Brasilia</td>\n",
       "      <td>8.516</td>\n",
       "      <td>200.4</td>\n",
       "    </tr>\n",
       "    <tr>\n",
       "      <th>RU</th>\n",
       "      <td>Russia</td>\n",
       "      <td>Moscow</td>\n",
       "      <td>17.100</td>\n",
       "      <td>143.5</td>\n",
       "    </tr>\n",
       "    <tr>\n",
       "      <th>CH</th>\n",
       "      <td>China</td>\n",
       "      <td>Beijing</td>\n",
       "      <td>9.597</td>\n",
       "      <td>1357.0</td>\n",
       "    </tr>\n",
       "  </tbody>\n",
       "</table>\n",
       "</div>"
      ],
      "text/plain": [
       "   country   capital    area  population\n",
       "                                        \n",
       "BR  Brazil  Brasilia   8.516       200.4\n",
       "RU  Russia    Moscow  17.100       143.5\n",
       "CH   China   Beijing   9.597      1357.0"
      ]
     },
     "execution_count": 43,
     "metadata": {},
     "output_type": "execute_result"
    }
   ],
   "source": [
    "brics[np.logical_and(brics[\"area\"] > 8, brics[\"area\"] > 8)]"
   ]
  },
  {
   "cell_type": "markdown",
   "metadata": {},
   "source": [
    "# 10. The `while` loop \n",
    "\n",
    "The `while` loop is equivalent to a repeated `if` statement that executes commands as long as this statement remains true. If you want to repeat an action *until* a condition is met (e.g. estimating a given model's parameters until the \"error\" between some model- and empirical-implied moments is sufficiently low), then a `while` loop can help achieve this.\n",
    "\n",
    "The general structure is:<br>\n",
    "\n",
    "`while condition:`<br>\n",
    "$\\qquad$ `expression` <br>\n",
    "\n",
    "The example below illustrates a great use of a `while` loop:"
   ]
  },
  {
   "cell_type": "code",
   "execution_count": 44,
   "metadata": {},
   "outputs": [
    {
     "name": "stdout",
     "output_type": "stream",
     "text": [
      "12.5\n",
      "3.125\n",
      "0.78125\n"
     ]
    }
   ],
   "source": [
    "### Example 1:\n",
    "error = 50.0\n",
    "while error > 1:\n",
    "    error = error/4\n",
    "    print(error)"
   ]
  },
  {
   "cell_type": "markdown",
   "metadata": {},
   "source": [
    "**Note:** A `while` should have terminate at some point!"
   ]
  },
  {
   "cell_type": "code",
   "execution_count": 45,
   "metadata": {},
   "outputs": [
    {
     "name": "stdout",
     "output_type": "stream",
     "text": [
      "correcting...\n",
      "-5\n",
      "correcting...\n",
      "-4\n",
      "correcting...\n",
      "-3\n",
      "correcting...\n",
      "-2\n",
      "correcting...\n",
      "-1\n",
      "correcting...\n",
      "0\n"
     ]
    }
   ],
   "source": [
    "### Example 2:\n",
    "offset = -6 # Initialize offset\n",
    "\n",
    "# Code the while loop\n",
    "while offset != 0 :\n",
    "    print(\"correcting...\")\n",
    "    if offset > 0:\n",
    "        offset -= 1\n",
    "    else:\n",
    "        offset += 1\n",
    "    print(offset)"
   ]
  },
  {
   "cell_type": "markdown",
   "metadata": {},
   "source": [
    "# 11. The `for` loop\n",
    "\n",
    "## 11.1 Overview\n",
    "\n",
    "The general structure is:<br>\n",
    "\n",
    "`for var in seq:`<br>\n",
    "$\\qquad$ `expression` <br>\n",
    "\n",
    "which can be translated in pseudo-code to \"*for each **var** in **seq**, execute expression\"*\n",
    "\n",
    "The example below illustrates a great implementation of a `for` loop:"
   ]
  },
  {
   "cell_type": "code",
   "execution_count": 46,
   "metadata": {},
   "outputs": [
    {
     "name": "stdout",
     "output_type": "stream",
     "text": [
      "1.73\n",
      "1.68\n",
      "1.71\n",
      "1.89\n"
     ]
    }
   ],
   "source": [
    "fam = [1.73, 1.68, 1.71, 1.89]\n",
    "for height in fam:\n",
    "    print(height)"
   ]
  },
  {
   "cell_type": "markdown",
   "metadata": {},
   "source": [
    "`enumerate` allows us to also retrieve the index associated with a value in a list:"
   ]
  },
  {
   "cell_type": "code",
   "execution_count": 47,
   "metadata": {},
   "outputs": [
    {
     "name": "stdout",
     "output_type": "stream",
     "text": [
      "index 0: 1.73\n",
      "index 1: 1.68\n",
      "index 2: 1.71\n",
      "index 3: 1.89\n"
     ]
    }
   ],
   "source": [
    "for index, height in enumerate(fam):\n",
    "    print(\"index \" + str(index) + \": \" + str(height))"
   ]
  },
  {
   "cell_type": "code",
   "execution_count": 48,
   "metadata": {},
   "outputs": [
    {
     "name": "stdout",
     "output_type": "stream",
     "text": [
      "F\n",
      "A\n",
      "M\n",
      "I\n",
      "L\n",
      "Y\n"
     ]
    }
   ],
   "source": [
    "for c in \"family\":\n",
    "    print(c.upper())"
   ]
  },
  {
   "cell_type": "markdown",
   "metadata": {},
   "source": [
    "## 11.2 Looping over Data Structures\n",
    "\n",
    "\n",
    "### Dictionaries:\n",
    "To access *both* the keys and values in a dictionary, we have to use the `items()` method for a dictionary. The `items()` method returns a view object that displays a list of a given dictionary's (key, value) tuple pair.\n",
    "\n",
    "It is worth reminding ourselves that dictionaries are *inherently unordered!*"
   ]
  },
  {
   "cell_type": "code",
   "execution_count": 49,
   "metadata": {},
   "outputs": [
    {
     "name": "stdout",
     "output_type": "stream",
     "text": [
      "afghanistan -- 30.55\n",
      "albania -- 2.77\n",
      "algeria -- 39.21\n"
     ]
    }
   ],
   "source": [
    "world = {\"afghanistan\": 30.55, \n",
    "         \"albania\": 2.77,\n",
    "         \"algeria\": 39.21}\n",
    "\n",
    "for key, value in world.items():\n",
    "    print(key + \" -- \" + str(value))"
   ]
  },
  {
   "cell_type": "markdown",
   "metadata": {},
   "source": [
    "### NumPy Arrays:\n",
    "\n",
    "Looping over values in a 1D `numpy` array is quite simple:"
   ]
  },
  {
   "cell_type": "code",
   "execution_count": 50,
   "metadata": {},
   "outputs": [
    {
     "name": "stdout",
     "output_type": "stream",
     "text": [
      "21.85171572722109\n",
      "20.97505668934241\n",
      "21.750282138093777\n",
      "24.74734749867025\n",
      "21.44127836209856\n"
     ]
    }
   ],
   "source": [
    "import numpy as np\n",
    "\n",
    "np_height = np.array([1.73, 1.68, 1.71, 1.89, 1.79])\n",
    "np_weight = np.array([65.4, 59.2, 63.6, 88.4, 68.7])\n",
    "bmi = np_weight/(np_height**2)\n",
    "\n",
    "for value in bmi:\n",
    "    print(value)"
   ]
  },
  {
   "cell_type": "markdown",
   "metadata": {},
   "source": [
    "Looping over values in a 2D `numpy` array is more involved. If you want to loop over **EVERY** element in the multidimensional array, we use the function `nditer`:"
   ]
  },
  {
   "cell_type": "code",
   "execution_count": 51,
   "metadata": {},
   "outputs": [
    {
     "name": "stdout",
     "output_type": "stream",
     "text": [
      "1.73\n",
      "1.68\n",
      "1.71\n",
      "1.89\n",
      "1.79\n",
      "65.4\n",
      "59.2\n",
      "63.6\n",
      "88.4\n",
      "68.7\n"
     ]
    }
   ],
   "source": [
    "measures = np.array([np_height, np_weight])\n",
    "\n",
    "for value in np.nditer(measures):\n",
    "    print(value)"
   ]
  },
  {
   "cell_type": "markdown",
   "metadata": {},
   "source": [
    "### Pandas DataFrames\n",
    "\n",
    "To loop over rows, we need to use the method `iterrows`. The example below illustrates how we can use a `for` loop to add a new column to a dataframe, albeit in an inefficient manner! The addition of this new column is an example of **broadcasting** in Python."
   ]
  },
  {
   "cell_type": "code",
   "execution_count": 52,
   "metadata": {},
   "outputs": [
    {
     "name": "stdout",
     "output_type": "stream",
     "text": [
      "         country    capital    area  population  name_length\n",
      "                                                            \n",
      "BR        Brazil   Brasilia   8.516      200.40          6.0\n",
      "RU        Russia     Moscow  17.100      143.50          6.0\n",
      "IN         India  New Delhi   3.286     1252.00          5.0\n",
      "CH         China    Beijing   9.597     1357.00          5.0\n",
      "SA  South Africa   Pretoria   1.221       52.98         12.0\n"
     ]
    }
   ],
   "source": [
    "import pandas as pd\n",
    "\n",
    "### row will be a pandas `Series` object:\n",
    "for label, row in brics.iterrows():\n",
    "    brics.loc[label, \"name_length\"] = len(row[\"country\"])\n",
    "print(brics)    "
   ]
  },
  {
   "cell_type": "markdown",
   "metadata": {},
   "source": [
    "A more efficient approach is to use the `apply` function:"
   ]
  },
  {
   "cell_type": "code",
   "execution_count": 53,
   "metadata": {},
   "outputs": [
    {
     "name": "stdout",
     "output_type": "stream",
     "text": [
      "         country    capital    area  population  name_length\n",
      "                                                            \n",
      "BR        Brazil   Brasilia   8.516      200.40            6\n",
      "RU        Russia     Moscow  17.100      143.50            6\n",
      "IN         India  New Delhi   3.286     1252.00            5\n",
      "CH         China    Beijing   9.597     1357.00            5\n",
      "SA  South Africa   Pretoria   1.221       52.98           12\n"
     ]
    }
   ],
   "source": [
    "brics[\"name_length\"] = brics[\"country\"].apply(len)\n",
    "print(brics)"
   ]
  },
  {
   "cell_type": "code",
   "execution_count": 54,
   "metadata": {},
   "outputs": [
    {
     "name": "stdout",
     "output_type": "stream",
     "text": [
      "         country    capital    area  population  name_length       COUNTRY\n",
      "                                                                          \n",
      "BR        Brazil   Brasilia   8.516      200.40            6        BRAZIL\n",
      "RU        Russia     Moscow  17.100      143.50            6        RUSSIA\n",
      "IN         India  New Delhi   3.286     1252.00            5         INDIA\n",
      "CH         China    Beijing   9.597     1357.00            5         CHINA\n",
      "SA  South Africa   Pretoria   1.221       52.98           12  SOUTH AFRICA\n"
     ]
    }
   ],
   "source": [
    "brics[\"COUNTRY\"] = brics[\"country\"].apply(str.upper)\n",
    "print(brics)"
   ]
  },
  {
   "cell_type": "markdown",
   "metadata": {},
   "source": [
    "# 12. Importing, Exporting, and Plotting with pandas and DataFrames\n",
    "\n",
    "## 12.1 Importing and Exporting"
   ]
  },
  {
   "cell_type": "code",
   "execution_count": 55,
   "metadata": {},
   "outputs": [
    {
     "name": "stdout",
     "output_type": "stream",
     "text": [
      "                                                   The following stock data was collect on 2016-AUG-25 from an unknown source\n",
      "These kind of ocmments are not very useful                                                  are they?                        \n",
      "probably should just throw this line away too          but not the next since those are column labels                        \n",
      "name Jan Feb Mar Apr May Jun Jul Aug Sep Oct No...                                                NaN                        \n",
      "# So that line you just read has all the column...                                                NaN                        \n",
      "IBM 156.08 160.01 159.81 165.22 172.25 167.15 1...                                                NaN                         \n",
      "\n",
      "     name     Jan     Feb     Mar     Apr     May     Jun     Jul     Aug  \\\n",
      "0     IBM  156.08  160.01  159.81  165.22  172.25  167.15  164.75  152.77   \n",
      "1    MSFT   45.51   43.08   42.13   43.47   47.53   45.96   45.61   45.51   \n",
      "2  GOOGLE  512.42  537.99  559.72  540.50  535.24  532.92  590.09  636.84   \n",
      "3   APPLE  110.64  125.43  125.97  127.29  128.76  127.81  125.34  113.39   \n",
      "\n",
      "      Sep     Oct     Nov     Dec  \n",
      "0  145.36  146.11  137.21  137.96  \n",
      "1   43.56   48.70   53.88   55.40  \n",
      "2  617.93  663.59  735.39  755.35  \n",
      "3  112.80  113.36  118.16  111.73   \n",
      "\n"
     ]
    }
   ],
   "source": [
    "### Read the raw file as-is: df1\n",
    "file_messy = 'messy_stock_data.csv'\n",
    "file_clean = 'tmp_clean_stock_data.csv'\n",
    "df1 = pd.read_csv(file_messy)\n",
    "print(df1.head(), '\\n')\n",
    "\n",
    "### Read in the file with the correct parameters: df2\n",
    "df2 = pd.read_csv(file_messy, delimiter=' ', header=3, comment='#')\n",
    "\n",
    "### Print the output of df2.head()\n",
    "print(df2.head(), '\\n')\n",
    "\n",
    "### Save the cleaned up DataFrame to a CSV file without the index\n",
    "df2.to_csv(file_clean, index=False)\n",
    "\n",
    "### Save the cleaned up DataFrame to an excel file without the index\n",
    "df2.to_excel('file_clean.xlsx', index=False)"
   ]
  },
  {
   "cell_type": "markdown",
   "metadata": {},
   "source": [
    "## 12.2 Plotting "
   ]
  },
  {
   "cell_type": "code",
   "execution_count": 56,
   "metadata": {},
   "outputs": [
    {
     "name": "stdout",
     "output_type": "stream",
     "text": [
      "Index(['Temperature', 'DewPoint', 'Pressure', 'Date'], dtype='object')\n"
     ]
    },
    {
     "data": {
      "image/png": "[encoded data removed]",
      "text/plain": [
       "<Figure size 432x288 with 1 Axes>"
      ]
     },
     "metadata": {
      "needs_background": "light"
     },
     "output_type": "display_data"
    },
    {
     "data": {
      "image/png": "[encoded data removed]",
      "text/plain": [
       "<Figure size 432x288 with 3 Axes>"
      ]
     },
     "metadata": {
      "needs_background": "light"
     },
     "output_type": "display_data"
    },
    {
     "data": {
      "image/png": "[encoded data removed]",
      "text/plain": [
       "<Figure size 432x288 with 1 Axes>"
      ]
     },
     "metadata": {
      "needs_background": "light"
     },
     "output_type": "display_data"
    },
    {
     "data": {
      "image/png": "[encoded data removed]",
      "text/plain": [
       "<Figure size 432x288 with 1 Axes>"
      ]
     },
     "metadata": {
      "needs_background": "light"
     },
     "output_type": "display_data"
    }
   ],
   "source": [
    "df = pd.read_csv('weather_data_austin_2010.csv')\n",
    "print(df.columns)\n",
    "\n",
    "### Plot all columns (default)\n",
    "df.plot()\n",
    "plt.show()\n",
    "\n",
    "\n",
    "### Plot all columns as subplots\n",
    "df.plot(subplots=True)\n",
    "plt.show()\n",
    "\n",
    "### Plot just the Dew Point data\n",
    "column_list1 = ['DewPoint']\n",
    "df[column_list1].plot()\n",
    "plt.show()\n",
    "\n",
    "### Plot the Dew Point and Temperature data, but not the Pressure data\n",
    "column_list2 = ['Temperature','DewPoint']\n",
    "df[column_list2].plot()\n",
    "plt.show()"
   ]
  },
  {
   "cell_type": "markdown",
   "metadata": {},
   "source": [
    "# 13. Simulating a Random Walk \n",
    "\n",
    "We can now tie together the aforementioned concepts with an involved exercise.:\n",
    "\n",
    "**Setup:** You and a friend are next to the Empire State Building. You through a fair dice 100x. \n",
    "* If the dice $\\in \\{1,2\\}$, you go *one step down* the Empire State Building\n",
    "* Else if the dice $\\in \\{3,4,5\\}$, you go *one step up* the Empire State Building\n",
    "* Else, you roll the dice again and walk up the *# of steps* that coincide with this 2<sup>nd</sup> roll.\n",
    "\n",
    "**Assumptions:**\n",
    "* You can't go below step 0.\n",
    "* You have a 0.1% chance of falling down the stairs when you make a move. If you fall, you have to start again from step 0.\n",
    "\n",
    "**Question** You bet your colleague you will reach *at least* 60 steps. What is the chance of you winning this bet?\n",
    "\n",
    "To answer this question, we will simulate the process implied by the game above. This requires a *random number generator*. The sub-package `random` in `numpy` is perfect for this. A few important functions are:\n",
    "\n",
    "* `seed()`: sets the random seed, so results can be replicated between simulations\n",
    "* `rand()`: unless explictly specified, generates a random float between 0 and 1.\n",
    "* `randint()`: unless explictly specified, generates 0 or 1. The \"upper bound\" is exclusive."
   ]
  },
  {
   "cell_type": "code",
   "execution_count": 57,
   "metadata": {},
   "outputs": [
    {
     "name": "stdout",
     "output_type": "stream",
     "text": [
      "0\n",
      "heads\n"
     ]
    }
   ],
   "source": [
    "import numpy as np\n",
    "\n",
    "### Coin Toss\n",
    "np.random.seed(123)\n",
    "coin = np.random.randint(0,2) # Randomly generates 0 or 1\n",
    "print(coin)\n",
    "if coin==0:\n",
    "    print(\"heads\")\n",
    "else:\n",
    "    print(\"tails\")"
   ]
  },
  {
   "cell_type": "markdown",
   "metadata": {},
   "source": [
    "## 13.1 Random Walk: using a fair coin\n",
    "\n",
    "The code below provides a simple example of how to construct a random walk from a fair, two-sided coin. "
   ]
  },
  {
   "cell_type": "code",
   "execution_count": 58,
   "metadata": {},
   "outputs": [
    {
     "name": "stdout",
     "output_type": "stream",
     "text": [
      "[0, 0, 1, 1, 1, 1, 1, 1, 2, 3, 3]\n"
     ]
    }
   ],
   "source": [
    "import numpy as np\n",
    "\n",
    "np.random.seed(123)\n",
    "tails = [0]\n",
    "for x in range(10):\n",
    "    coin = np.random.randint(0,2)\n",
    "    tails.append(tails[x] + coin)\n",
    "\n",
    "print(tails)    "
   ]
  },
  {
   "cell_type": "markdown",
   "metadata": {},
   "source": [
    "Back to our original **Question**...\n",
    "### 13.2 Random Walk: fair dice + step gamble\n",
    "Inside the `for` loop, we include the restrictions on how we move along steps. We also make sure to restrict the \"process\" so that it is not allowed to move below step 0 (i.e. no negative steps). \n",
    "\n",
    "We only consider \"one run\" of the process for 100 steps. "
   ]
  },
  {
   "cell_type": "code",
   "execution_count": 59,
   "metadata": {},
   "outputs": [
    {
     "name": "stdout",
     "output_type": "stream",
     "text": [
      "[0, 1, 0, 0, 0, 0, 0, 0, 0, 0, 1, 6, 5, 4, 5, 4, 5, 6, 7, 8, 9, 8, 9, 8, 9, 10, 11, 12, 11, 15, 16, 15, 16, 15, 16, 17, 18, 19, 20, 21, 22, 25, 26, 27, 28, 33, 34, 38, 39, 38, 39, 40, 39, 40, 41, 43, 44, 45, 44, 43, 44, 45, 44, 43, 44, 45, 47, 46, 45, 46, 45, 46, 47, 48, 50, 49, 50, 51, 52, 53, 54, 53, 52, 53, 52, 53, 54, 53, 56, 57, 58, 59, 58, 59, 60, 64, 63, 62, 64, 63, 64]\n"
     ]
    },
    {
     "data": {
      "image/png": "[encoded data removed]",
      "text/plain": [
       "<Figure size 432x288 with 1 Axes>"
      ]
     },
     "metadata": {
      "needs_background": "light"
     },
     "output_type": "display_data"
    }
   ],
   "source": [
    "### Initialize random_walk\n",
    "random_walk = [0]\n",
    "\n",
    "for x in range(100) :\n",
    "    step = random_walk[-1]\n",
    "    dice = np.random.randint(1,7)\n",
    "\n",
    "    if dice <= 2:\n",
    "        step = max(step - 1,0)\n",
    "    elif dice <= 5:\n",
    "        step = step + 1\n",
    "    else:\n",
    "        step = step + np.random.randint(1,7)\n",
    "\n",
    "    random_walk.append(step)\n",
    "\n",
    "print(random_walk)\n",
    "\n",
    "\n",
    "### Import matplotlib.pyplot as plt\n",
    "import matplotlib.pyplot as plt\n",
    "\n",
    "### Plot random_walk\n",
    "plt.plot(random_walk)\n",
    "\n",
    "### Show the plot\n",
    "plt.show()"
   ]
  },
  {
   "cell_type": "markdown",
   "metadata": {},
   "source": [
    "## 13.3 Distribution of Random Walks\n",
    "\n",
    "Our main **question** is: What is the probability we reach at least 60 steps in the Empire State Building? This can be solved for obtaining an empirical estimate of the **distribution** of this random walk. \n",
    "\n",
    "Each random walk will have an end point. We can simulate this endpoint 10,000 times, giving us 10,000 end points and a \"distribution.\" With this distribution, we can calculate chances. "
   ]
  },
  {
   "cell_type": "markdown",
   "metadata": {},
   "source": [
    "### 13.3.1 Simulating 10,000 Runs of a Random Walk (Coin Flip)\n",
    "\n",
    "By simulating a random walk generated by consecutive coin flips, and increasing the number of simulations, we can estimate the \"theoretical\" distribution of the random walk.\n",
    "\n",
    "Below we augment the code from before with an \"outer\" `for` loop that simulates the coin flip random walk process 10,000 times."
   ]
  },
  {
   "cell_type": "code",
   "execution_count": 60,
   "metadata": {},
   "outputs": [
    {
     "data": {
      "image/png": "[encoded data removed]",
      "text/plain": [
       "<Figure size 432x288 with 1 Axes>"
      ]
     },
     "metadata": {
      "needs_background": "light"
     },
     "output_type": "display_data"
    }
   ],
   "source": [
    "import numpy as np\n",
    "import matplotlib.pyplot as plt\n",
    "\n",
    "np.random.seed(123)\n",
    "final_tails = []\n",
    "for r in range(10000):\n",
    "    \n",
    "    tails = [0] # Start at 0 for each new \"r\"\n",
    "    for x in range(10):\n",
    "        coin = np.random.randint(0,2)\n",
    "        tails.append(tails[x] + coin)     \n",
    "    final_tails.append(tails[-1])    \n",
    "    \n",
    "    \n",
    "plt.hist(final_tails, bins=10)  \n",
    "plt.xlabel(\"# of Tails\", fontsize=12)\n",
    "plt.ylabel(\"Count\", fontsize=12)\n",
    "plt.title(str(len(range(10000))) + \" simulations of a random walk\")\n",
    "plt.axvline(np.asarray(final_tails).mean(), color='k', linestyle='dashed', linewidth=1) # Show the mean\n",
    "\n",
    "_, max_ = plt.ylim()\n",
    "plt.text(np.asarray(final_tails).mean() + np.asarray(final_tails).mean()/4, \n",
    "         max_ - max_/10, \n",
    "        'Mean: {:.3f}'.format(np.asarray(final_tails).mean()))\n",
    "\n",
    "plt.show() "
   ]
  },
  {
   "cell_type": "markdown",
   "metadata": {},
   "source": [
    "### 13.3.2 Simulating 10,000 Runs of a Random Walk: fair dice + step gamble\n",
    "\n",
    "Below we augment the code from the **problem of interest** so that we simulate the step \"process\" 10,000 times. \n",
    "\n",
    "In addition, we also need to add the 2<sup>nd</sup> restriction: you have a 0.1% chance of falling down the stairs when you make a move. If you fall, you have to start again from step 0."
   ]
  },
  {
   "cell_type": "code",
   "execution_count": 61,
   "metadata": {},
   "outputs": [
    {
     "data": {
      "image/png": "[encoded data removed]",
      "text/plain": [
       "<Figure size 432x288 with 1 Axes>"
      ]
     },
     "metadata": {
      "needs_background": "light"
     },
     "output_type": "display_data"
    }
   ],
   "source": [
    "import numpy as np\n",
    "\n",
    "np.random.seed(123)\n",
    "\n",
    "### Initialize all_walks (don't change this line)\n",
    "all_walks = []\n",
    "\n",
    "### Simulate random walk 10000 times\n",
    "for i in range(10000):\n",
    "    \n",
    "    random_walk = [0]\n",
    "    for x in range(100) :\n",
    "        step = random_walk[-1]\n",
    "        dice = np.random.randint(1,7)\n",
    "\n",
    "        if dice <= 2:\n",
    "            step = max(0, step - 1)\n",
    "        elif dice <= 5:\n",
    "            step = step + 1\n",
    "        else:\n",
    "            step = step + np.random.randint(1,7)\n",
    "            \n",
    "        ### Implement clumsiness by generating a random number X~Unif[0,1]     \n",
    "        if np.random.rand(1,1) <= 0.001:\n",
    "            step = 0\n",
    "            \n",
    "        random_walk.append(step)\n",
    "    \n",
    "    all_walks.append(random_walk) # Append random_walk to all_walks\n",
    "\n",
    "    \n",
    "### Create and plot np_aw_t\n",
    "np_aw_t = np.transpose(np.array(all_walks)) \n",
    "plt.plot(np_aw_t)\n",
    "plt.show()"
   ]
  },
  {
   "cell_type": "markdown",
   "metadata": {},
   "source": [
    "**Plotting the distribution:** We still have to solve the question: **What are the odds that you'll reach 60 steps high on the Empire State Building?**\n",
    "\n",
    "You need to know the end points of all the random walks you've simulated. These end points have a certain distribution that you can visualize with a histogram."
   ]
  },
  {
   "cell_type": "code",
   "execution_count": 62,
   "metadata": {},
   "outputs": [
    {
     "data": {
      "image/png": "[encoded data removed]",
      "text/plain": [
       "<Figure size 432x288 with 1 Axes>"
      ]
     },
     "metadata": {
      "needs_background": "light"
     },
     "output_type": "display_data"
    }
   ],
   "source": [
    "### Select last row from np_aw_t: ends\n",
    "ends = np_aw_t[-1,:]\n",
    "\n",
    "plt.hist(ends, bins=10)  \n",
    "plt.xlabel(\"# of Steps\", fontsize=12)\n",
    "plt.ylabel(\"Count\", fontsize=12)\n",
    "plt.title(str(len(range(10000))) + \" simulations of a step-based random walk process\")\n",
    "plt.axvline(ends.mean(), color='k', linestyle='dashed', linewidth=1) # Show the mean\n",
    "\n",
    "_, max_ = plt.ylim()\n",
    "plt.text(ends.mean() + ends.mean()/4, \n",
    "         max_ - max_/10, \n",
    "        'Mean: {:.3f}'.format(ends.mean()))\n",
    "plt.show() "
   ]
  },
  {
   "cell_type": "markdown",
   "metadata": {},
   "source": [
    "To calculate the chance we reach at least 60 steps, we count the number of integers in ends that are **greater than or equal to 60** and divide that number by the # of simulations (i.e. 10,000), the total number of simulations:"
   ]
  },
  {
   "cell_type": "code",
   "execution_count": 63,
   "metadata": {},
   "outputs": [
    {
     "name": "stdout",
     "output_type": "stream",
     "text": [
      "Pr[We reach AT LEAST 60 steps] =  0.7814\n"
     ]
    }
   ],
   "source": [
    "atleast60steps = (ends >= 60)\n",
    "P_atleast60steps= sum(atleast60steps)/10000\n",
    "print(\"Pr[We reach AT LEAST 60 steps] = \", P_atleast60steps)"
   ]
  },
  {
   "cell_type": "markdown",
   "metadata": {},
   "source": [
    "# 14. Debugging\n",
    "\n",
    "## 14.1 Overview\n",
    "\n",
    "Debugging Python code in Jupyter notebooks is simple. Consider the following example, which contains a \"runtime\" error on purpose:"
   ]
  },
  {
   "cell_type": "code",
   "execution_count": 64,
   "metadata": {},
   "outputs": [
    {
     "ename": "AttributeError",
     "evalue": "'numpy.ndarray' object has no attribute 'plot'",
     "output_type": "error",
     "traceback": [
      "\u001b[0;31m---------------------------------------------------------------------------\u001b[0m",
      "\u001b[0;31mAttributeError\u001b[0m                            Traceback (most recent call last)",
      "\u001b[0;32m<ipython-input-64-b3140f9cafb8>\u001b[0m in \u001b[0;36m<module>\u001b[0;34m\u001b[0m\n\u001b[1;32m     10\u001b[0m     \u001b[0mplt\u001b[0m\u001b[0;34m.\u001b[0m\u001b[0mshow\u001b[0m\u001b[0;34m(\u001b[0m\u001b[0;34m)\u001b[0m\u001b[0;34m\u001b[0m\u001b[0;34m\u001b[0m\u001b[0m\n\u001b[1;32m     11\u001b[0m \u001b[0;34m\u001b[0m\u001b[0m\n\u001b[0;32m---> 12\u001b[0;31m \u001b[0mplot_squared\u001b[0m\u001b[0;34m(\u001b[0m\u001b[0;34m)\u001b[0m\u001b[0;34m\u001b[0m\u001b[0;34m\u001b[0m\u001b[0m\n\u001b[0m",
      "\u001b[0;32m<ipython-input-64-b3140f9cafb8>\u001b[0m in \u001b[0;36mplot_squared\u001b[0;34m()\u001b[0m\n\u001b[1;32m      7\u001b[0m     \u001b[0mfig\u001b[0m\u001b[0;34m,\u001b[0m \u001b[0maxes\u001b[0m \u001b[0;34m=\u001b[0m \u001b[0mplt\u001b[0m\u001b[0;34m.\u001b[0m\u001b[0msubplots\u001b[0m\u001b[0;34m(\u001b[0m\u001b[0;36m2\u001b[0m\u001b[0;34m,\u001b[0m \u001b[0;36m1\u001b[0m\u001b[0;34m)\u001b[0m\u001b[0;34m\u001b[0m\u001b[0;34m\u001b[0m\u001b[0m\n\u001b[1;32m      8\u001b[0m     \u001b[0mx\u001b[0m \u001b[0;34m=\u001b[0m \u001b[0mnp\u001b[0m\u001b[0;34m.\u001b[0m\u001b[0mlinspace\u001b[0m\u001b[0;34m(\u001b[0m\u001b[0;36m0\u001b[0m\u001b[0;34m,\u001b[0m \u001b[0;36m10\u001b[0m\u001b[0;34m,\u001b[0m \u001b[0;36m10\u001b[0m\u001b[0;34m)\u001b[0m\u001b[0;34m\u001b[0m\u001b[0;34m\u001b[0m\u001b[0m\n\u001b[0;32m----> 9\u001b[0;31m     \u001b[0maxes\u001b[0m\u001b[0;34m.\u001b[0m\u001b[0mplot\u001b[0m\u001b[0;34m(\u001b[0m\u001b[0mx\u001b[0m\u001b[0;34m,\u001b[0m \u001b[0mx\u001b[0m\u001b[0;34m**\u001b[0m\u001b[0;36m2\u001b[0m\u001b[0;34m)\u001b[0m\u001b[0;34m\u001b[0m\u001b[0;34m\u001b[0m\u001b[0m\n\u001b[0m\u001b[1;32m     10\u001b[0m     \u001b[0mplt\u001b[0m\u001b[0;34m.\u001b[0m\u001b[0mshow\u001b[0m\u001b[0;34m(\u001b[0m\u001b[0;34m)\u001b[0m\u001b[0;34m\u001b[0m\u001b[0;34m\u001b[0m\u001b[0m\n\u001b[1;32m     11\u001b[0m \u001b[0;34m\u001b[0m\u001b[0m\n",
      "\u001b[0;31mAttributeError\u001b[0m: 'numpy.ndarray' object has no attribute 'plot'"
     ]
    },
    {
     "data": {
      "image/png": "[encoded data removed]",
      "text/plain": [
       "<Figure size 432x288 with 2 Axes>"
      ]
     },
     "metadata": {
      "needs_background": "light"
     },
     "output_type": "display_data"
    }
   ],
   "source": [
    "import numpy as np\n",
    "import matplotlib.pyplot as plt\n",
    "%matplotlib inline\n",
    "\n",
    "### This function plots the square of the positive part of the function f(x) = x^2 over interval [0,10]\n",
    "def plot_squared():\n",
    "    fig, axes = plt.subplots(2, 1)\n",
    "    x = np.linspace(0, 10, 10)\n",
    "    axes.plot(x, x**2)\n",
    "    plt.show()\n",
    "    \n",
    "plot_squared()   "
   ]
  },
  {
   "cell_type": "markdown",
   "metadata": {},
   "source": [
    "Where does the error occur? The traceback shows the error takes place at the method call `ax.plot(x, x**2)`. \n",
    "\n",
    "Given the error is found within the definition of our function `plot_squared()`, we can make use of Jupyter's debugging feature by typing the following cell block `%debug`. \n",
    "\n",
    "`%debug` is an IPython *line* magic variable. A *cell* magic has two % symbols, while a *line* magic has one % symbol and no argument. "
   ]
  },
  {
   "cell_type": "code",
   "execution_count": 65,
   "metadata": {},
   "outputs": [
    {
     "name": "stdout",
     "output_type": "stream",
     "text": [
      "> \u001b[0;32m<ipython-input-64-b3140f9cafb8>\u001b[0m(9)\u001b[0;36mplot_squared\u001b[0;34m()\u001b[0m\n",
      "\u001b[0;32m      7 \u001b[0;31m    \u001b[0mfig\u001b[0m\u001b[0;34m,\u001b[0m \u001b[0maxes\u001b[0m \u001b[0;34m=\u001b[0m \u001b[0mplt\u001b[0m\u001b[0;34m.\u001b[0m\u001b[0msubplots\u001b[0m\u001b[0;34m(\u001b[0m\u001b[0;36m2\u001b[0m\u001b[0;34m,\u001b[0m \u001b[0;36m1\u001b[0m\u001b[0;34m)\u001b[0m\u001b[0;34m\u001b[0m\u001b[0;34m\u001b[0m\u001b[0m\n",
      "\u001b[0m\u001b[0;32m      8 \u001b[0;31m    \u001b[0mx\u001b[0m \u001b[0;34m=\u001b[0m \u001b[0mnp\u001b[0m\u001b[0;34m.\u001b[0m\u001b[0mlinspace\u001b[0m\u001b[0;34m(\u001b[0m\u001b[0;36m0\u001b[0m\u001b[0;34m,\u001b[0m \u001b[0;36m10\u001b[0m\u001b[0;34m,\u001b[0m \u001b[0;36m10\u001b[0m\u001b[0;34m)\u001b[0m\u001b[0;34m\u001b[0m\u001b[0;34m\u001b[0m\u001b[0m\n",
      "\u001b[0m\u001b[0;32m----> 9 \u001b[0;31m    \u001b[0maxes\u001b[0m\u001b[0;34m.\u001b[0m\u001b[0mplot\u001b[0m\u001b[0;34m(\u001b[0m\u001b[0mx\u001b[0m\u001b[0;34m,\u001b[0m \u001b[0mx\u001b[0m\u001b[0;34m**\u001b[0m\u001b[0;36m2\u001b[0m\u001b[0;34m)\u001b[0m\u001b[0;34m\u001b[0m\u001b[0;34m\u001b[0m\u001b[0m\n",
      "\u001b[0m\u001b[0;32m     10 \u001b[0;31m    \u001b[0mplt\u001b[0m\u001b[0;34m.\u001b[0m\u001b[0mshow\u001b[0m\u001b[0;34m(\u001b[0m\u001b[0;34m)\u001b[0m\u001b[0;34m\u001b[0m\u001b[0;34m\u001b[0m\u001b[0m\n",
      "\u001b[0m\u001b[0;32m     11 \u001b[0;31m\u001b[0;34m\u001b[0m\u001b[0m\n",
      "\u001b[0m\n",
      "ipdb> axes\n",
      "array([<matplotlib.axes._subplots.AxesSubplot object at 0x1157a3e10>,\n",
      "       <matplotlib.axes._subplots.AxesSubplot object at 0x1157ed2e8>],\n",
      "      dtype=object)\n",
      "ipdb> q\n"
     ]
    },
    {
     "ename": "AttributeError",
     "evalue": "'numpy.ndarray' object has no attribute 'plot'",
     "output_type": "error",
     "traceback": [
      "\u001b[0;31m---------------------------------------------------------------------------\u001b[0m",
      "\u001b[0;31mAttributeError\u001b[0m                            Traceback (most recent call last)",
      "\u001b[0;32m<ipython-input-65-b27ff40b0119>\u001b[0m in \u001b[0;36m<module>\u001b[0;34m\u001b[0m\n\u001b[1;32m     12\u001b[0m     \u001b[0mplt\u001b[0m\u001b[0;34m.\u001b[0m\u001b[0mshow\u001b[0m\u001b[0;34m(\u001b[0m\u001b[0;34m)\u001b[0m\u001b[0;34m\u001b[0m\u001b[0;34m\u001b[0m\u001b[0m\n\u001b[1;32m     13\u001b[0m \u001b[0;34m\u001b[0m\u001b[0m\n\u001b[0;32m---> 14\u001b[0;31m \u001b[0mplot_squared\u001b[0m\u001b[0;34m(\u001b[0m\u001b[0;34m)\u001b[0m\u001b[0;34m\u001b[0m\u001b[0;34m\u001b[0m\u001b[0m\n\u001b[0m",
      "\u001b[0;32m<ipython-input-65-b27ff40b0119>\u001b[0m in \u001b[0;36mplot_squared\u001b[0;34m()\u001b[0m\n\u001b[1;32m      9\u001b[0m     \u001b[0mfig\u001b[0m\u001b[0;34m,\u001b[0m \u001b[0maxes\u001b[0m \u001b[0;34m=\u001b[0m \u001b[0mplt\u001b[0m\u001b[0;34m.\u001b[0m\u001b[0msubplots\u001b[0m\u001b[0;34m(\u001b[0m\u001b[0;36m2\u001b[0m\u001b[0;34m,\u001b[0m \u001b[0;36m1\u001b[0m\u001b[0;34m)\u001b[0m\u001b[0;34m\u001b[0m\u001b[0;34m\u001b[0m\u001b[0m\n\u001b[1;32m     10\u001b[0m     \u001b[0mx\u001b[0m \u001b[0;34m=\u001b[0m \u001b[0mnp\u001b[0m\u001b[0;34m.\u001b[0m\u001b[0mlinspace\u001b[0m\u001b[0;34m(\u001b[0m\u001b[0;36m0\u001b[0m\u001b[0;34m,\u001b[0m \u001b[0;36m10\u001b[0m\u001b[0;34m,\u001b[0m \u001b[0;36m10\u001b[0m\u001b[0;34m)\u001b[0m\u001b[0;34m\u001b[0m\u001b[0;34m\u001b[0m\u001b[0m\n\u001b[0;32m---> 11\u001b[0;31m     \u001b[0maxes\u001b[0m\u001b[0;34m.\u001b[0m\u001b[0mplot\u001b[0m\u001b[0;34m(\u001b[0m\u001b[0mx\u001b[0m\u001b[0;34m,\u001b[0m \u001b[0mx\u001b[0m\u001b[0;34m**\u001b[0m\u001b[0;36m2\u001b[0m\u001b[0;34m)\u001b[0m\u001b[0;34m\u001b[0m\u001b[0;34m\u001b[0m\u001b[0m\n\u001b[0m\u001b[1;32m     12\u001b[0m     \u001b[0mplt\u001b[0m\u001b[0;34m.\u001b[0m\u001b[0mshow\u001b[0m\u001b[0;34m(\u001b[0m\u001b[0;34m)\u001b[0m\u001b[0;34m\u001b[0m\u001b[0;34m\u001b[0m\u001b[0m\n\u001b[1;32m     13\u001b[0m \u001b[0;34m\u001b[0m\u001b[0m\n",
      "\u001b[0;31mAttributeError\u001b[0m: 'numpy.ndarray' object has no attribute 'plot'"
     ]
    },
    {
     "data": {
      "image/png": "[encoded data removed]",
      "text/plain": [
       "<Figure size 432x288 with 2 Axes>"
      ]
     },
     "metadata": {
      "needs_background": "light"
     },
     "output_type": "display_data"
    }
   ],
   "source": [
    "%debug\n",
    "\n",
    "import numpy as np\n",
    "import matplotlib.pyplot as plt\n",
    "%matplotlib inline\n",
    "\n",
    "### This function plots the square of the positive part of the function f(x) = x^2 over interval [0,10]\n",
    "def plot_squared():\n",
    "    fig, axes = plt.subplots(2, 1)\n",
    "    x = np.linspace(0, 10, 10)\n",
    "    axes.plot(x, x**2)\n",
    "    plt.show()\n",
    "    \n",
    "plot_squared()   "
   ]
  },
  {
   "cell_type": "markdown",
   "metadata": {},
   "source": [
    "The prompt `ipdb>` allows you to check where the error may exist within your code. Specifically, you can inspect the object `axes` where the error shows up. We can type the name `axes` inside the prompt in order to inspect the issues with this object. \n",
    "\n",
    "For this case, we will see that `axes` is not a `Numpy` array, but a regular array, which doesnt have the method `plot().` To exit the interactive prompt, enter `q`.\n",
    "\n",
    "The corrected code is below:"
   ]
  },
  {
   "cell_type": "code",
   "execution_count": 66,
   "metadata": {},
   "outputs": [
    {
     "name": "stdout",
     "output_type": "stream",
     "text": [
      "> \u001b[0;32m<ipython-input-65-b27ff40b0119>\u001b[0m(11)\u001b[0;36mplot_squared\u001b[0;34m()\u001b[0m\n",
      "\u001b[0;32m      9 \u001b[0;31m    \u001b[0mfig\u001b[0m\u001b[0;34m,\u001b[0m \u001b[0maxes\u001b[0m \u001b[0;34m=\u001b[0m \u001b[0mplt\u001b[0m\u001b[0;34m.\u001b[0m\u001b[0msubplots\u001b[0m\u001b[0;34m(\u001b[0m\u001b[0;36m2\u001b[0m\u001b[0;34m,\u001b[0m \u001b[0;36m1\u001b[0m\u001b[0;34m)\u001b[0m\u001b[0;34m\u001b[0m\u001b[0;34m\u001b[0m\u001b[0m\n",
      "\u001b[0m\u001b[0;32m     10 \u001b[0;31m    \u001b[0mx\u001b[0m \u001b[0;34m=\u001b[0m \u001b[0mnp\u001b[0m\u001b[0;34m.\u001b[0m\u001b[0mlinspace\u001b[0m\u001b[0;34m(\u001b[0m\u001b[0;36m0\u001b[0m\u001b[0;34m,\u001b[0m \u001b[0;36m10\u001b[0m\u001b[0;34m,\u001b[0m \u001b[0;36m10\u001b[0m\u001b[0;34m)\u001b[0m\u001b[0;34m\u001b[0m\u001b[0;34m\u001b[0m\u001b[0m\n",
      "\u001b[0m\u001b[0;32m---> 11 \u001b[0;31m    \u001b[0maxes\u001b[0m\u001b[0;34m.\u001b[0m\u001b[0mplot\u001b[0m\u001b[0;34m(\u001b[0m\u001b[0mx\u001b[0m\u001b[0;34m,\u001b[0m \u001b[0mx\u001b[0m\u001b[0;34m**\u001b[0m\u001b[0;36m2\u001b[0m\u001b[0;34m)\u001b[0m\u001b[0;34m\u001b[0m\u001b[0;34m\u001b[0m\u001b[0m\n",
      "\u001b[0m\u001b[0;32m     12 \u001b[0;31m    \u001b[0mplt\u001b[0m\u001b[0;34m.\u001b[0m\u001b[0mshow\u001b[0m\u001b[0;34m(\u001b[0m\u001b[0;34m)\u001b[0m\u001b[0;34m\u001b[0m\u001b[0;34m\u001b[0m\u001b[0m\n",
      "\u001b[0m\u001b[0;32m     13 \u001b[0;31m\u001b[0;34m\u001b[0m\u001b[0m\n",
      "\u001b[0m\n",
      "ipdb> axes\n",
      "array([<matplotlib.axes._subplots.AxesSubplot object at 0x115a1cb38>,\n",
      "       <matplotlib.axes._subplots.AxesSubplot object at 0x115a714e0>],\n",
      "      dtype=object)\n",
      "ipdb> q\n"
     ]
    },
    {
     "data": {
      "image/png": "[encoded data removed]",
      "text/plain": [
       "<Figure size 432x288 with 1 Axes>"
      ]
     },
     "metadata": {
      "needs_background": "light"
     },
     "output_type": "display_data"
    }
   ],
   "source": [
    "%debug\n",
    "\n",
    "import numpy as np\n",
    "import matplotlib.pyplot as plt\n",
    "%matplotlib inline\n",
    "\n",
    "### This function plots the square of the positive part of the function f(x) = x^2 over interval [0,10]\n",
    "def plot_squared():\n",
    "    fig, axes = plt.subplots()\n",
    "    x = np.linspace(0, 10, 10)\n",
    "    axes.plot(x, x**2)\n",
    "    plt.show()\n",
    "    \n",
    "plot_squared()   "
   ]
  },
  {
   "cell_type": "markdown",
   "metadata": {},
   "source": [
    "Supposed you wanted to \"step through\" code using **breakpoints**, then you can set a breakpoint by simply using the `breakpoint()` function or by importing the module `pdb`, you can use `pdb.set_trace()` exactly where you want to start debugging. \n",
    "\n",
    "We can step forward one line at a time by entering `n` into the prompt `(Pdb)`. As before, quitting the debugger just requires that we enter `q`. Two cheatsheets containing other commands associated with how to navigate the Python debugger can be found [here](https://kapeli.com/cheat_sheets/Python_Debugger.docset/Contents/Resources/Documents/index) and [here](https://appletree.or.kr/quick_reference_cards/Python/Python%20Debugger%20Cheatsheet.pdf)."
   ]
  },
  {
   "cell_type": "code",
   "execution_count": 67,
   "metadata": {},
   "outputs": [
    {
     "name": "stdout",
     "output_type": "stream",
     "text": [
      "> <ipython-input-67-c266b728fd93>(7)plot_squared()\n",
      "-> fig, axes = plt.subplots()\n",
      "(Pdb) n\n",
      "> <ipython-input-67-c266b728fd93>(8)plot_squared()\n",
      "-> x = np.linspace(0, 10, 10)\n",
      "(Pdb) n\n",
      "> <ipython-input-67-c266b728fd93>(9)plot_squared()\n",
      "-> axes.plot(x, x**2)\n",
      "(Pdb) n\n",
      "> <ipython-input-67-c266b728fd93>(10)plot_squared()\n",
      "-> plt.show()\n",
      "(Pdb) n\n"
     ]
    },
    {
     "data": {
      "image/png": "[encoded data removed]",
      "text/plain": [
       "<Figure size 432x288 with 1 Axes>"
      ]
     },
     "metadata": {
      "needs_background": "light"
     },
     "output_type": "display_data"
    },
    {
     "name": "stdout",
     "output_type": "stream",
     "text": [
      "--Return--\n",
      "> <ipython-input-67-c266b728fd93>(10)plot_squared()->None\n",
      "-> plt.show()\n",
      "(Pdb) u\n",
      "> <ipython-input-67-c266b728fd93>(12)<module>()\n",
      "-> plot_squared()\n",
      "(Pdb) n\n",
      "--Return--\n",
      "> <ipython-input-67-c266b728fd93>(12)<module>()->None\n",
      "-> plot_squared()\n",
      "(Pdb) p\n",
      "*** SyntaxError: unexpected EOF while parsing\n",
      "(Pdb) q\n"
     ]
    },
    {
     "ename": "BdbQuit",
     "evalue": "",
     "output_type": "error",
     "traceback": [
      "\u001b[0;31m---------------------------------------------------------------------------\u001b[0m",
      "\u001b[0;31mBdbQuit\u001b[0m                                   Traceback (most recent call last)",
      "\u001b[0;32m<ipython-input-67-c266b728fd93>\u001b[0m in \u001b[0;36m<module>\u001b[0;34m\u001b[0m\n\u001b[1;32m     10\u001b[0m     \u001b[0mplt\u001b[0m\u001b[0;34m.\u001b[0m\u001b[0mshow\u001b[0m\u001b[0;34m(\u001b[0m\u001b[0;34m)\u001b[0m\u001b[0;34m\u001b[0m\u001b[0;34m\u001b[0m\u001b[0m\n\u001b[1;32m     11\u001b[0m \u001b[0;34m\u001b[0m\u001b[0m\n\u001b[0;32m---> 12\u001b[0;31m \u001b[0mplot_squared\u001b[0m\u001b[0;34m(\u001b[0m\u001b[0;34m)\u001b[0m\u001b[0;34m\u001b[0m\u001b[0;34m\u001b[0m\u001b[0m\n\u001b[0m",
      "\u001b[0;32m~/anaconda3/lib/python3.7/bdb.py\u001b[0m in \u001b[0;36mtrace_dispatch\u001b[0;34m(self, frame, event, arg)\u001b[0m\n\u001b[1;32m     90\u001b[0m             \u001b[0;32mreturn\u001b[0m \u001b[0mself\u001b[0m\u001b[0;34m.\u001b[0m\u001b[0mdispatch_call\u001b[0m\u001b[0;34m(\u001b[0m\u001b[0mframe\u001b[0m\u001b[0;34m,\u001b[0m \u001b[0marg\u001b[0m\u001b[0;34m)\u001b[0m\u001b[0;34m\u001b[0m\u001b[0;34m\u001b[0m\u001b[0m\n\u001b[1;32m     91\u001b[0m         \u001b[0;32mif\u001b[0m \u001b[0mevent\u001b[0m \u001b[0;34m==\u001b[0m \u001b[0;34m'return'\u001b[0m\u001b[0;34m:\u001b[0m\u001b[0;34m\u001b[0m\u001b[0;34m\u001b[0m\u001b[0m\n\u001b[0;32m---> 92\u001b[0;31m             \u001b[0;32mreturn\u001b[0m \u001b[0mself\u001b[0m\u001b[0;34m.\u001b[0m\u001b[0mdispatch_return\u001b[0m\u001b[0;34m(\u001b[0m\u001b[0mframe\u001b[0m\u001b[0;34m,\u001b[0m \u001b[0marg\u001b[0m\u001b[0;34m)\u001b[0m\u001b[0;34m\u001b[0m\u001b[0;34m\u001b[0m\u001b[0m\n\u001b[0m\u001b[1;32m     93\u001b[0m         \u001b[0;32mif\u001b[0m \u001b[0mevent\u001b[0m \u001b[0;34m==\u001b[0m \u001b[0;34m'exception'\u001b[0m\u001b[0;34m:\u001b[0m\u001b[0;34m\u001b[0m\u001b[0;34m\u001b[0m\u001b[0m\n\u001b[1;32m     94\u001b[0m             \u001b[0;32mreturn\u001b[0m \u001b[0mself\u001b[0m\u001b[0;34m.\u001b[0m\u001b[0mdispatch_exception\u001b[0m\u001b[0;34m(\u001b[0m\u001b[0mframe\u001b[0m\u001b[0;34m,\u001b[0m \u001b[0marg\u001b[0m\u001b[0;34m)\u001b[0m\u001b[0;34m\u001b[0m\u001b[0;34m\u001b[0m\u001b[0m\n",
      "\u001b[0;32m~/anaconda3/lib/python3.7/bdb.py\u001b[0m in \u001b[0;36mdispatch_return\u001b[0;34m(self, frame, arg)\u001b[0m\n\u001b[1;32m    152\u001b[0m             \u001b[0;32mfinally\u001b[0m\u001b[0;34m:\u001b[0m\u001b[0;34m\u001b[0m\u001b[0;34m\u001b[0m\u001b[0m\n\u001b[1;32m    153\u001b[0m                 \u001b[0mself\u001b[0m\u001b[0;34m.\u001b[0m\u001b[0mframe_returning\u001b[0m \u001b[0;34m=\u001b[0m \u001b[0;32mNone\u001b[0m\u001b[0;34m\u001b[0m\u001b[0;34m\u001b[0m\u001b[0m\n\u001b[0;32m--> 154\u001b[0;31m             \u001b[0;32mif\u001b[0m \u001b[0mself\u001b[0m\u001b[0;34m.\u001b[0m\u001b[0mquitting\u001b[0m\u001b[0;34m:\u001b[0m \u001b[0;32mraise\u001b[0m \u001b[0mBdbQuit\u001b[0m\u001b[0;34m\u001b[0m\u001b[0;34m\u001b[0m\u001b[0m\n\u001b[0m\u001b[1;32m    155\u001b[0m             \u001b[0;31m# The user issued a 'next' or 'until' command.\u001b[0m\u001b[0;34m\u001b[0m\u001b[0;34m\u001b[0m\u001b[0;34m\u001b[0m\u001b[0m\n\u001b[1;32m    156\u001b[0m             \u001b[0;32mif\u001b[0m \u001b[0mself\u001b[0m\u001b[0;34m.\u001b[0m\u001b[0mstopframe\u001b[0m \u001b[0;32mis\u001b[0m \u001b[0mframe\u001b[0m \u001b[0;32mand\u001b[0m \u001b[0mself\u001b[0m\u001b[0;34m.\u001b[0m\u001b[0mstoplineno\u001b[0m \u001b[0;34m!=\u001b[0m \u001b[0;34m-\u001b[0m\u001b[0;36m1\u001b[0m\u001b[0;34m:\u001b[0m\u001b[0;34m\u001b[0m\u001b[0;34m\u001b[0m\u001b[0m\n",
      "\u001b[0;31mBdbQuit\u001b[0m: "
     ]
    }
   ],
   "source": [
    "import pdb\n",
    "\n",
    "### This function plots the square of the positive part of the function f(x) = x^2 over interval [0,10]\n",
    "def plot_squared():\n",
    "    #breakpoint() ### BREAKPOINT IS SET HERE!\n",
    "    pdb.set_trace()\n",
    "    fig, axes = plt.subplots()\n",
    "    x = np.linspace(0, 10, 10)\n",
    "    axes.plot(x, x**2)\n",
    "    plt.show()\n",
    "    \n",
    "plot_squared()   "
   ]
  },
  {
   "cell_type": "markdown",
   "metadata": {},
   "source": [
    "## 14.2 An Even Better Way to Debug: PixieDebugger\n",
    "\n",
    "**PixieDebugger** is a visual Python debugger built as part of the Python package [`pixiedust`](https://github.com/pixiedust/pixiedust/wiki/Tutorial:-Using-Notebooks-with-PixieDust-for-Fast,-Flexible,-and-Easier-Data-Analysis-and-Experimentation). \n",
    "\n",
    "**PixieDebugger** includes a source editor, local variable inspector, console output, the ability to evaluate Python expressions in the current context, breakpoints management, as well as a toolbar for controlling code execution.\n",
    "\n",
    "To install from a Jupyter notebook, execute the code `!pip install pixiedust` and import as `pixiedust`. To invoke it within a cell, use the magic `%%pixie_debugger`. \n",
    "\n",
    "This [link](https://medium.com/ibm-watson-data-lab/the-visual-python-de) provides a detailed overview for how **PixieDebugger** may be implemented. \n",
    "\n",
    "The same lines of code from before can be easily debugged using the *cell* magic `%%pixie_debugger`. This second method is my preferred choice for debugging in a Jupyter notebook!"
   ]
  },
  {
   "cell_type": "code",
   "execution_count": 68,
   "metadata": {},
   "outputs": [
    {
     "name": "stdout",
     "output_type": "stream",
     "text": [
      "Pixiedust database opened successfully\n"
     ]
    },
    {
     "data": {
      "text/html": [
       "\n",
       "        <div style=\"margin:10px\">\n",
       "            <a href=\"https://github.com/ibm-watson-data-lab/pixiedust\" target=\"_new\">\n",
       "                <img src=\"https://github.com/ibm-watson-data-lab/pixiedust/raw/master/docs/_static/pd_icon32.png\" style=\"float:left;margin-right:10px\"/>\n",
       "            </a>\n",
       "            <span>Pixiedust version 1.1.15</span>\n",
       "        </div>\n",
       "        "
      ],
      "text/plain": [
       "<IPython.core.display.HTML object>"
      ]
     },
     "metadata": {},
     "output_type": "display_data"
    }
   ],
   "source": [
    "### import the 'pixisdust' module\n",
    "import pixiedust"
   ]
  },
  {
   "cell_type": "code",
   "execution_count": 69,
   "metadata": {
    "pixiedust": {
     "displayParams": {}
    }
   },
   "outputs": [
    {
     "data": {
      "image/png": "[encoded data removed]",
      "text/html": [
       "<style type=\"text/css\">.pd_warning{display:none;}</style><div class=\"pd_warning\"><em>Hey, there's something awesome here! To see it, open this notebook outside GitHub, in a viewer like Jupyter</em></div>"
      ],
      "text/plain": [
       "<Figure size 432x288 with 2 Axes>"
      ]
     },
     "metadata": {
      "needs_background": "light"
     },
     "output_type": "display_data"
    }
   ],
   "source": [
    "%%pixie_debugger\n",
    "import numpy as np\n",
    "import matplotlib.pyplot as plt\n",
    "%matplotlib inline\n",
    "\n",
    "### This function plots the square of the positive part of the function f(x) = x^2 over interval [0,10]\n",
    "def plot_squared():\n",
    "    fig, axes = plt.subplots(2, 1)\n",
    "    x = np.linspace(0, 10, 10)\n",
    "    axes.plot(x, x**2)\n",
    "    plt.show()\n",
    "    \n",
    "plot_squared()   "
   ]
  },
  {
   "cell_type": "markdown",
   "metadata": {},
   "source": [
    "If we wanted to stop somewhere in the code above, we can use the visual breakpoints (i.e. 🐞). All we have to do is hover over a line number on the gutter (shown above on the left) to make the red bug icon appear and clicking it to move the code execution to the line of interest. \n",
    "\n",
    "Alternatively, we can use the `-b` argument switch and specify a list of breakpoints separated by a space. These breakpoints can be a method/function/variable name (such as `plot_squared`) or an explicit line number (*you need to show line numbers in your cell*)"
   ]
  },
  {
   "cell_type": "code",
   "execution_count": 70,
   "metadata": {
    "pixiedust": {
     "displayParams": {}
    }
   },
   "outputs": [
    {
     "data": {
      "text/html": [
       "<div class=\"pixiedust\" pixiedust=\"{&quot;prefix&quot;: &quot;c958811b&quot;, &quot;command&quot;: &quot;display(PixieDebugger_instance,nostore_pixieapp=&apos;PixieDebugger_instance&apos;,nostore_ispix=&apos;true&apos;,runInDialog=&apos;false&apos;,handlerId=&apos;pixiedust.apps.debugger.pixieDebugger_PixieDebugger_id&apos;,cell_id=&apos;af9fe32b09074468817ddb26328cd5bb&apos;,nostore_pixiedust=&apos;true&apos;,nostore_cw=&apos;1098&apos;,nostore_vh=&apos;688&apos;,org_params=&apos;nostore_pixieapp,nostore_ispix,runInDialog,handlerId,nostore_pixiedust&apos;,nostore_bokeh=&apos;false&apos;)&quot;, &quot;entity&quot;: &quot;PixieDebugger_instance&quot;, &quot;options&quot;: {&quot;nostore_pixieapp&quot;: &quot;PixieDebugger_instance&quot;, &quot;nostore_ispix&quot;: &quot;true&quot;, &quot;runInDialog&quot;: &quot;false&quot;, &quot;handlerId&quot;: &quot;pixiedust.apps.debugger.pixieDebugger_PixieDebugger_id&quot;, &quot;cell_id&quot;: &quot;af9fe32b09074468817ddb26328cd5bb&quot;, &quot;nostore_pixiedust&quot;: &quot;true&quot;, &quot;nostore_cw&quot;: &quot;1098&quot;, &quot;nostore_vh&quot;: &quot;688&quot;, &quot;org_params&quot;: &quot;nostore_pixieapp,nostore_ispix,runInDialog,handlerId,nostore_pixiedust&quot;, &quot;nostore_bokeh&quot;: &quot;false&quot;}, &quot;sniffers&quot;: [&quot;{&apos;nostore_bokeh&apos;:!!window.Bokeh}&quot;], &quot;avoidMetadata&quot;: false, &quot;include_keys&quot;: [&quot;filter&quot;]}\">\n",
       "  \n",
       "  <button class=\"btn btn-default btn-sm expandButton\" data-toggle=\"collapse\"\n",
       "          data-target=\"#pixiedust-output-wrapper-c958811b\" title=\"Expand/Collapse Pixiedust output\">\n",
       "    <i class=\"fa\"></i>\n",
       "  </button>\n",
       "  \n",
       "  <button pd_app=\"pixiedust.apps.gateway.publish.PublishApp\" pd_options=\"runInDialog=true;title=Publish PixieApp\" class=\"btn btn-default btn-sm no_loading_msg\" style=\"z-index:999;float:right;width: initial;background-color:transparent;\n",
       "    border: 0 none;font-size: 15px;padding: 0; position: relative; right: 0; text-align: right;top: 0;\" title=\"Publish PixieApp\">\n",
       "    <i class=\"fa fa-plug no_loading_msg\"></i>\n",
       "  </button>\n",
       "  <button pd_refresh class=\"btn btn-default btn-sm no_loading_msg\" style=\"z-index:999;float:right;width: initial;background-color:transparent;\n",
       "    border: 0 none;font-size: 15px;padding: 0; position: relative; right: 0; text-align: right;top: 0;\" title=\"Restart PixieApp\">\n",
       "    <i class=\"fa fa-home no_loading_msg\"></i>\n",
       "  </button>\n",
       "  \n",
       "  \n",
       "  <div id=\"pixiedust-output-wrapper-c958811b\" class=\"pixiedust-output-wrapper collapse in\">\n",
       "    \n",
       "    <div id=\"wrapperJSc958811b\"></div>\n",
       "    <div id=\"wrapperHTMLc958811b\" class=\"pixiedustWrapperHTML\" pd_init\n",
       "        pixiedust=\"{&quot;prefix&quot;: &quot;c958811b&quot;, &quot;command&quot;: &quot;display(PixieDebugger_instance,nostore_pixieapp=&apos;PixieDebugger_instance&apos;,nostore_ispix=&apos;true&apos;,runInDialog=&apos;false&apos;,handlerId=&apos;pixiedust.apps.debugger.pixieDebugger_PixieDebugger_id&apos;,cell_id=&apos;af9fe32b09074468817ddb26328cd5bb&apos;,nostore_pixiedust=&apos;true&apos;,nostore_cw=&apos;1098&apos;,nostore_vh=&apos;688&apos;,org_params=&apos;nostore_pixieapp,nostore_ispix,runInDialog,handlerId,nostore_pixiedust&apos;,nostore_bokeh=&apos;false&apos;)&quot;, &quot;entity&quot;: &quot;PixieDebugger_instance&quot;, &quot;options&quot;: {&quot;nostore_pixieapp&quot;: &quot;PixieDebugger_instance&quot;, &quot;nostore_ispix&quot;: &quot;true&quot;, &quot;runInDialog&quot;: &quot;false&quot;, &quot;handlerId&quot;: &quot;pixiedust.apps.debugger.pixieDebugger_PixieDebugger_id&quot;, &quot;cell_id&quot;: &quot;af9fe32b09074468817ddb26328cd5bb&quot;, &quot;nostore_pixiedust&quot;: &quot;true&quot;, &quot;nostore_cw&quot;: &quot;1098&quot;, &quot;nostore_vh&quot;: &quot;688&quot;, &quot;org_params&quot;: &quot;nostore_pixieapp,nostore_ispix,runInDialog,handlerId,nostore_pixiedust&quot;, &quot;nostore_bokeh&quot;: &quot;false&quot;}, &quot;sniffers&quot;: [&quot;{&apos;nostore_bokeh&apos;:!!window.Bokeh}&quot;], &quot;avoidMetadata&quot;: false, &quot;include_keys&quot;: [&quot;filter&quot;]}\" style=\"min-height:100px\"></div>\n",
       "  </div>\n",
       "</div>\n",
       "                    <script>\n",
       "                    (\n",
       "            \n",
       "            function(){\n",
       "                pixiedust.executeDisplay(\n",
       "                    {\"prefix\": \"c958811b\", \"command\": \"display(PixieDebugger_instance,nostore_pixieapp='PixieDebugger_instance',nostore_ispix='true',runInDialog='false',handlerId='pixiedust.apps.debugger.pixieDebugger_PixieDebugger_id',cell_id='af9fe32b09074468817ddb26328cd5bb',nostore_pixiedust='true',nostore_cw='1098',nostore_vh='688',org_params='nostore_pixieapp,nostore_ispix,runInDialog,handlerId,nostore_pixiedust',nostore_bokeh='false',prefix='c958811b')\", \"entity\": \"PixieDebugger_instance\", \"options\": {\"nostore_pixieapp\": \"PixieDebugger_instance\", \"nostore_ispix\": \"true\", \"runInDialog\": \"false\", \"handlerId\": \"pixiedust.apps.debugger.pixieDebugger_PixieDebugger_id\", \"cell_id\": \"af9fe32b09074468817ddb26328cd5bb\", \"nostore_pixiedust\": \"true\", \"nostore_cw\": \"1098\", \"nostore_vh\": \"688\", \"org_params\": \"nostore_pixieapp,nostore_ispix,runInDialog,handlerId,nostore_pixiedust\", \"nostore_bokeh\": \"false\", \"prefix\": \"c958811b\"}, \"sniffers\": [\"{'nostore_bokeh':!!window.Bokeh}\"], \"avoidMetadata\": true, \"include_keys\": [\"filter\"]},\n",
       "                    {'targetDivId': 'wrapperHTMLc958811b' }\n",
       "                );\n",
       "            }\n",
       "            )();\n",
       "                    </script>\n",
       "                </div>"
      ],
      "text/plain": [
       "<IPython.core.display.HTML object>"
      ]
     },
     "metadata": {
      "pixieapp_metadata": null
     },
     "output_type": "display_data"
    }
   ],
   "source": [
    "%%pixie_debugger -b plot_squared 8\n",
    "import numpy as np\n",
    "import matplotlib.pyplot as plt\n",
    "%matplotlib inline\n",
    "\n",
    "### This function plots the square of the positive part of the function f(x) = x^2 over interval [0,10]\n",
    "def plot_squared():\n",
    "    fig, axes = plt.subplots(2, 1)\n",
    "    x = np.linspace(0, 10, 10)\n",
    "    axes.plot(x, x**2)\n",
    "    plt.show()\n",
    "    \n",
    "plot_squared()   "
   ]
  },
  {
   "cell_type": "markdown",
   "metadata": {},
   "source": [
    "To invoke PixieDebugger after an exception has happened (i.e. post-mortem), simply use the *line* magic `%debugger`"
   ]
  },
  {
   "cell_type": "code",
   "execution_count": 71,
   "metadata": {
    "pixiedust": {
     "displayParams": {}
    }
   },
   "outputs": [
    {
     "data": {
      "text/html": [
       "<style type=\"text/css\">.pd_warning{display:none;}</style><div class=\"pd_warning\"><em>Hey, there's something awesome here! To see it, open this notebook outside GitHub, in a viewer like Jupyter</em></div>"
      ],
      "text/plain": [
       "<IPython.core.display.HTML object>"
      ]
     },
     "metadata": {
      "pixieapp_metadata": null
     },
     "output_type": "display_data"
    }
   ],
   "source": [
    "%pixie_debugger"
   ]
  }
 ],
 "metadata": {
  "kernelspec": {
   "display_name": "Python 3",
   "language": "python",
   "name": "python3"
  },
  "language_info": {
   "codemirror_mode": {
    "name": "ipython",
    "version": 3
   },
   "file_extension": ".py",
   "mimetype": "text/x-python",
   "name": "python",
   "nbconvert_exporter": "python",
   "pygments_lexer": "ipython3",
   "version": "3.7.2"
  }
 },
 "nbformat": 4,
 "nbformat_minor": 2
}
